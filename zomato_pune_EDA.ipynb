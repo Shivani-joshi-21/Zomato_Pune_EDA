{
 "cells": [
  {
   "cell_type": "markdown",
   "id": "ab882c53",
   "metadata": {},
   "source": [
    "### Importing the necessary libraries\n"
   ]
  },
  {
   "cell_type": "code",
   "execution_count": 84,
   "id": "81a1dbaa",
   "metadata": {},
   "outputs": [],
   "source": [
    "import numpy as np\n",
    "import pandas as pd\n",
    "import matplotlib.pyplot as plt\n",
    "import seaborn as sns\n",
    "\n",
    "import plotly.express as px\n",
    "import plotly.graph_objs as go\n",
    "from plotly.offline import iplot\n",
    "\n",
    "from warnings import filterwarnings\n",
    "filterwarnings('ignore')"
   ]
  },
  {
   "cell_type": "markdown",
   "id": "7966576d",
   "metadata": {},
   "source": [
    " **Data Cleaning:** <br>\n",
    "- Deleting redundant columns.\n",
    " - Renaming the columns.\n",
    " - Dropping duplicates.\n",
    " - Cleaning individual columns.\n",
    " - Remove the NaN values from the dataset\n",
    " - #Some Transformations"
   ]
  },
  {
   "cell_type": "code",
   "execution_count": 2,
   "id": "a5f5a065",
   "metadata": {},
   "outputs": [
    {
     "data": {
      "text/html": [
       "<div>\n",
       "<style scoped>\n",
       "    .dataframe tbody tr th:only-of-type {\n",
       "        vertical-align: middle;\n",
       "    }\n",
       "\n",
       "    .dataframe tbody tr th {\n",
       "        vertical-align: top;\n",
       "    }\n",
       "\n",
       "    .dataframe thead th {\n",
       "        text-align: right;\n",
       "    }\n",
       "</style>\n",
       "<table border=\"1\" class=\"dataframe\">\n",
       "  <thead>\n",
       "    <tr style=\"text-align: right;\">\n",
       "      <th></th>\n",
       "      <th>Restaurant_Name</th>\n",
       "      <th>Web_Link</th>\n",
       "      <th>Locality</th>\n",
       "      <th>Sponsored</th>\n",
       "      <th>Ratings_out_of_5</th>\n",
       "      <th>Number of votes</th>\n",
       "      <th>Phone_number</th>\n",
       "      <th>Cuisines</th>\n",
       "      <th>Charges_for_two</th>\n",
       "      <th>payment_modes</th>\n",
       "      <th>...</th>\n",
       "      <th>Table booking recommended</th>\n",
       "      <th>Resto Bar</th>\n",
       "      <th>Serves Alcohol</th>\n",
       "      <th>Breakfast</th>\n",
       "      <th>Catering Available</th>\n",
       "      <th>Disabled Friendly</th>\n",
       "      <th>Serves Halal</th>\n",
       "      <th>Takeaway Only</th>\n",
       "      <th>BYOB Only</th>\n",
       "      <th>spam_review</th>\n",
       "    </tr>\n",
       "  </thead>\n",
       "  <tbody>\n",
       "    <tr>\n",
       "      <th>0</th>\n",
       "      <td>AB's - Absolute Barbecues</td>\n",
       "      <td>https://www.zomato.com/pune/abs-absolute-barbe...</td>\n",
       "      <td>Hinjawadi</td>\n",
       "      <td>Casual Dining</td>\n",
       "      <td>4.9</td>\n",
       "      <td>7029  votes</td>\n",
       "      <td>+91 9373112211</td>\n",
       "      <td>Continental, North Indian, Chinese</td>\n",
       "      <td>₹1,400</td>\n",
       "      <td>Cash and Cards accepted</td>\n",
       "      <td>...</td>\n",
       "      <td>1</td>\n",
       "      <td>0</td>\n",
       "      <td>0</td>\n",
       "      <td>0</td>\n",
       "      <td>0</td>\n",
       "      <td>0</td>\n",
       "      <td>0</td>\n",
       "      <td>0</td>\n",
       "      <td>0</td>\n",
       "      <td>1539.0</td>\n",
       "    </tr>\n",
       "    <tr>\n",
       "      <th>1</th>\n",
       "      <td>Cafe Co2 Resto Lounge</td>\n",
       "      <td>https://www.zomato.com/pune/cafe-co2-resto-lou...</td>\n",
       "      <td>Bhugaon</td>\n",
       "      <td>Lounge, Casual Dining</td>\n",
       "      <td>4.6</td>\n",
       "      <td>2578  votes</td>\n",
       "      <td>080 46971866</td>\n",
       "      <td>North Indian, Chinese, Continental, Kebab, Sea...</td>\n",
       "      <td>₹1,500</td>\n",
       "      <td>Cash and Cards accepted</td>\n",
       "      <td>...</td>\n",
       "      <td>1</td>\n",
       "      <td>0</td>\n",
       "      <td>0</td>\n",
       "      <td>0</td>\n",
       "      <td>0</td>\n",
       "      <td>0</td>\n",
       "      <td>0</td>\n",
       "      <td>0</td>\n",
       "      <td>0</td>\n",
       "      <td>139.0</td>\n",
       "    </tr>\n",
       "    <tr>\n",
       "      <th>2</th>\n",
       "      <td>Paasha - JW Marriott Pune</td>\n",
       "      <td>https://www.zomato.com/pune/paasha-jw-marriott...</td>\n",
       "      <td>Senapati Bapat Road</td>\n",
       "      <td>Fine Dining</td>\n",
       "      <td>4.6</td>\n",
       "      <td>3291  votes</td>\n",
       "      <td>080 46971369</td>\n",
       "      <td>North Indian, Kebab, Biryani</td>\n",
       "      <td>₹2,500</td>\n",
       "      <td>Cash,Cards and Digital Payments accepted</td>\n",
       "      <td>...</td>\n",
       "      <td>1</td>\n",
       "      <td>0</td>\n",
       "      <td>0</td>\n",
       "      <td>0</td>\n",
       "      <td>0</td>\n",
       "      <td>0</td>\n",
       "      <td>0</td>\n",
       "      <td>0</td>\n",
       "      <td>0</td>\n",
       "      <td>119.0</td>\n",
       "    </tr>\n",
       "    <tr>\n",
       "      <th>3</th>\n",
       "      <td>I Amsterdam</td>\n",
       "      <td>https://www.zomato.com/pune/i-amsterdam-hinjawadi</td>\n",
       "      <td>Hinjawadi</td>\n",
       "      <td>Casual Dining, Bar</td>\n",
       "      <td>4.3</td>\n",
       "      <td>430  votes</td>\n",
       "      <td>+91 8669698666 +91 8669697666</td>\n",
       "      <td>Asian, European, Modern Indian, Italian</td>\n",
       "      <td>₹1,400</td>\n",
       "      <td>Cash,Cards and Digital Payments accepted</td>\n",
       "      <td>...</td>\n",
       "      <td>1</td>\n",
       "      <td>0</td>\n",
       "      <td>0</td>\n",
       "      <td>0</td>\n",
       "      <td>0</td>\n",
       "      <td>0</td>\n",
       "      <td>0</td>\n",
       "      <td>0</td>\n",
       "      <td>0</td>\n",
       "      <td>8.0</td>\n",
       "    </tr>\n",
       "    <tr>\n",
       "      <th>4</th>\n",
       "      <td>FC Road Social</td>\n",
       "      <td>https://www.zomato.com/pune/fc-road-social-shi...</td>\n",
       "      <td>Shivaji Nagar</td>\n",
       "      <td>Bar, Casual Dining</td>\n",
       "      <td>4.5</td>\n",
       "      <td>2138  votes</td>\n",
       "      <td>+91 9172378889 020 29805112</td>\n",
       "      <td>North Indian, Chinese, Biryani, American, Cont...</td>\n",
       "      <td>₹1,500</td>\n",
       "      <td>Cash,Cards and Digital Payments accepted</td>\n",
       "      <td>...</td>\n",
       "      <td>0</td>\n",
       "      <td>0</td>\n",
       "      <td>0</td>\n",
       "      <td>1</td>\n",
       "      <td>0</td>\n",
       "      <td>0</td>\n",
       "      <td>0</td>\n",
       "      <td>0</td>\n",
       "      <td>0</td>\n",
       "      <td>132.0</td>\n",
       "    </tr>\n",
       "  </tbody>\n",
       "</table>\n",
       "<p>5 rows × 104 columns</p>\n",
       "</div>"
      ],
      "text/plain": [
       "             Restaurant_Name  \\\n",
       "0  AB's - Absolute Barbecues   \n",
       "1      Cafe Co2 Resto Lounge   \n",
       "2  Paasha - JW Marriott Pune   \n",
       "3                I Amsterdam   \n",
       "4             FC Road Social   \n",
       "\n",
       "                                            Web_Link             Locality  \\\n",
       "0  https://www.zomato.com/pune/abs-absolute-barbe...            Hinjawadi   \n",
       "1  https://www.zomato.com/pune/cafe-co2-resto-lou...              Bhugaon   \n",
       "2  https://www.zomato.com/pune/paasha-jw-marriott...  Senapati Bapat Road   \n",
       "3  https://www.zomato.com/pune/i-amsterdam-hinjawadi            Hinjawadi   \n",
       "4  https://www.zomato.com/pune/fc-road-social-shi...        Shivaji Nagar   \n",
       "\n",
       "               Sponsored Ratings_out_of_5 Number of votes  \\\n",
       "0          Casual Dining              4.9     7029  votes   \n",
       "1  Lounge, Casual Dining              4.6     2578  votes   \n",
       "2            Fine Dining              4.6     3291  votes   \n",
       "3     Casual Dining, Bar              4.3      430  votes   \n",
       "4     Bar, Casual Dining              4.5     2138  votes   \n",
       "\n",
       "                    Phone_number  \\\n",
       "0                 +91 9373112211   \n",
       "1                   080 46971866   \n",
       "2                   080 46971369   \n",
       "3  +91 8669698666 +91 8669697666   \n",
       "4    +91 9172378889 020 29805112   \n",
       "\n",
       "                                            Cuisines Charges_for_two  \\\n",
       "0                 Continental, North Indian, Chinese          ₹1,400   \n",
       "1  North Indian, Chinese, Continental, Kebab, Sea...          ₹1,500   \n",
       "2                       North Indian, Kebab, Biryani          ₹2,500   \n",
       "3            Asian, European, Modern Indian, Italian          ₹1,400   \n",
       "4  North Indian, Chinese, Biryani, American, Cont...          ₹1,500   \n",
       "\n",
       "                              payment_modes  ... Table booking recommended  \\\n",
       "0                   Cash and Cards accepted  ...                         1   \n",
       "1                   Cash and Cards accepted  ...                         1   \n",
       "2  Cash,Cards and Digital Payments accepted  ...                         1   \n",
       "3  Cash,Cards and Digital Payments accepted  ...                         1   \n",
       "4  Cash,Cards and Digital Payments accepted  ...                         0   \n",
       "\n",
       "  Resto Bar Serves Alcohol Breakfast Catering Available Disabled Friendly  \\\n",
       "0         0              0         0                  0                 0   \n",
       "1         0              0         0                  0                 0   \n",
       "2         0              0         0                  0                 0   \n",
       "3         0              0         0                  0                 0   \n",
       "4         0              0         1                  0                 0   \n",
       "\n",
       "  Serves Halal  Takeaway Only  BYOB Only  spam_review  \n",
       "0            0              0          0       1539.0  \n",
       "1            0              0          0        139.0  \n",
       "2            0              0          0        119.0  \n",
       "3            0              0          0          8.0  \n",
       "4            0              0          0        132.0  \n",
       "\n",
       "[5 rows x 104 columns]"
      ]
     },
     "execution_count": 2,
     "metadata": {},
     "output_type": "execute_result"
    }
   ],
   "source": [
    "zomato_real = pd.read_csv('zomato_pune.csv')\n",
    "zomato_real.head()"
   ]
  },
  {
   "cell_type": "code",
   "execution_count": 37,
   "id": "57dcc3d9",
   "metadata": {},
   "outputs": [
    {
     "name": "stdout",
     "output_type": "stream",
     "text": [
      "<class 'pandas.core.frame.DataFrame'>\n",
      "RangeIndex: 12189 entries, 0 to 12188\n",
      "Columns: 104 entries, Restaurant_Name to spam_review\n",
      "dtypes: float64(1), int32(1), int64(86), object(16)\n",
      "memory usage: 9.6+ MB\n"
     ]
    }
   ],
   "source": [
    "zomato_real.info()"
   ]
  },
  {
   "cell_type": "code",
   "execution_count": 4,
   "id": "1bd0b165",
   "metadata": {},
   "outputs": [
    {
     "data": {
      "text/plain": [
       "['Restaurant_Name',\n",
       " 'Web_Link',\n",
       " 'Locality',\n",
       " 'Sponsored',\n",
       " 'Ratings_out_of_5',\n",
       " 'Number of votes',\n",
       " 'Phone_number',\n",
       " 'Cuisines',\n",
       " 'Charges_for_two',\n",
       " 'payment_modes',\n",
       " 'Rest_timming',\n",
       " 'Detail_address',\n",
       " '5_star_review_percentage',\n",
       " '4_star_review_percentage',\n",
       " '3_star_review_percentage',\n",
       " '2_star_review_percentage',\n",
       " '1_star_review_percentage',\n",
       " 'Wine and Beer',\n",
       " 'Dance Floor',\n",
       " 'Lunch Menu',\n",
       " 'Outdoor Seating',\n",
       " 'Seaside',\n",
       " '4/5 Star',\n",
       " 'Free Parking',\n",
       " 'Pet Friendly',\n",
       " 'Bulk Orders Accepted',\n",
       " 'Gaming Are',\n",
       " 'City View',\n",
       " 'Vegetarian Only',\n",
       " 'Brunch',\n",
       " 'Live Music',\n",
       " 'Wheelchair Accessible',\n",
       " 'Home Delivery',\n",
       " 'Celebrity Frequented',\n",
       " 'Pre-Ordering Required',\n",
       " 'Pool Table',\n",
       " 'Keto Options',\n",
       " 'Wifi',\n",
       " 'Sports TV',\n",
       " 'Wine Tasting',\n",
       " 'Beer',\n",
       " 'Restricted Entry',\n",
       " 'Variable Menu',\n",
       " 'Serves Non Veg',\n",
       " 'Table booking for Groups',\n",
       " 'Poolside',\n",
       " 'Home Baker',\n",
       " 'Wine',\n",
       " 'Buffet',\n",
       " 'Board Games',\n",
       " 'Vegan Options',\n",
       " 'Table Reservation Not Required',\n",
       " 'Table reservation required',\n",
       " 'Rooftop',\n",
       " 'BYOB',\n",
       " 'Egg Preparations',\n",
       " 'Live Sports Screening',\n",
       " 'Luxury Dining',\n",
       " 'Seating Not Available',\n",
       " 'Desserts and Bakes',\n",
       " 'Card Upon Delivery',\n",
       " 'Serves Jain Food',\n",
       " 'Mall Parking',\n",
       " 'Available for Functions',\n",
       " 'Gastro Pub',\n",
       " 'Live Entertainment',\n",
       " 'Sugar Free Options',\n",
       " 'Couple Entry Only',\n",
       " 'Above 18 Only',\n",
       " 'Drive in',\n",
       " 'Drive Thru',\n",
       " 'Valet Parking Available',\n",
       " 'Indoor Seating',\n",
       " 'Free Wifi',\n",
       " 'Nightlife',\n",
       " 'Serves Cocktails',\n",
       " 'Kid Friendly',\n",
       " 'Craft Beer',\n",
       " 'All Day Breakfast',\n",
       " 'Gluten Free Options',\n",
       " 'Group Meal',\n",
       " 'Table booking not available',\n",
       " 'Full Bar Available',\n",
       " 'Members Only',\n",
       " 'Standing Tables',\n",
       " 'Karaoke',\n",
       " 'Entry Fee',\n",
       " 'Self Service',\n",
       " 'Delivery Only',\n",
       " 'LGBTQIA Friendly',\n",
       " 'No Alcohol Available',\n",
       " 'Unlimited Pizz',\n",
       " 'Private Dining Area Available',\n",
       " 'Smoking Are',\n",
       " 'Table booking recommended',\n",
       " 'Resto Bar',\n",
       " 'Serves Alcohol',\n",
       " 'Breakfast',\n",
       " 'Catering Available',\n",
       " 'Disabled Friendly',\n",
       " 'Serves Halal',\n",
       " 'Takeaway Only',\n",
       " 'BYOB Only',\n",
       " 'spam_review']"
      ]
     },
     "execution_count": 4,
     "metadata": {},
     "output_type": "execute_result"
    }
   ],
   "source": [
    "zomato_real.columns.to_list()"
   ]
  },
  {
   "cell_type": "code",
   "execution_count": 38,
   "id": "ae06ccbd",
   "metadata": {},
   "outputs": [],
   "source": [
    "zomato = zomato_real.drop(['Web_Link','BYOB Only','Drive in','Drive Thru','Unlimited Pizz','Sugar Free Options','Private Dining Area Available',\n",
    "                          'Egg Preparations','No Alcohol Available','Karaoke','Mall Parking','Valet Parking Available','Home Baker','Restricted Entry',\n",
    "                          'Seating Not Available','Wine Tasting','Seaside','Charges_for_two','Live Music','Smoking Are','Serves Halal','spam_review',\n",
    "                          'Karaoke','Standing Tables','Members Only','Group Meal'], axis=1)"
   ]
  },
  {
   "cell_type": "code",
   "execution_count": 40,
   "id": "8395fe1d",
   "metadata": {},
   "outputs": [
    {
     "name": "stdout",
     "output_type": "stream",
     "text": [
      "<class 'pandas.core.frame.DataFrame'>\n",
      "RangeIndex: 12189 entries, 0 to 12188\n",
      "Data columns (total 79 columns):\n",
      " #   Column                          Non-Null Count  Dtype \n",
      "---  ------                          --------------  ----- \n",
      " 0   Restaurant_Name                 12189 non-null  object\n",
      " 1   Locality                        12189 non-null  object\n",
      " 2   Sponsored                       12189 non-null  object\n",
      " 3   Ratings_out_of_5                12189 non-null  object\n",
      " 4   Number of votes                 12189 non-null  object\n",
      " 5   Phone_number                    12189 non-null  object\n",
      " 6   Cuisines                        12189 non-null  object\n",
      " 7   payment_modes                   12189 non-null  object\n",
      " 8   Rest_timming                    12189 non-null  object\n",
      " 9   Detail_address                  12189 non-null  object\n",
      " 10  5_star_review_percentage        12189 non-null  object\n",
      " 11  4_star_review_percentage        12189 non-null  object\n",
      " 12  3_star_review_percentage        12189 non-null  object\n",
      " 13  2_star_review_percentage        12189 non-null  object\n",
      " 14  1_star_review_percentage        12189 non-null  object\n",
      " 15  Wine and Beer                   12189 non-null  int64 \n",
      " 16  Dance Floor                     12189 non-null  int64 \n",
      " 17  Lunch Menu                      12189 non-null  int64 \n",
      " 18  Outdoor Seating                 12189 non-null  int64 \n",
      " 19  4/5 Star                        12189 non-null  int64 \n",
      " 20  Free Parking                    12189 non-null  int64 \n",
      " 21  Pet Friendly                    12189 non-null  int64 \n",
      " 22  Bulk Orders Accepted            12189 non-null  int64 \n",
      " 23  Gaming Are                      12189 non-null  int64 \n",
      " 24  City View                       12189 non-null  int64 \n",
      " 25  Vegetarian Only                 12189 non-null  int64 \n",
      " 26  Brunch                          12189 non-null  int64 \n",
      " 27  Wheelchair Accessible           12189 non-null  int64 \n",
      " 28  Home Delivery                   12189 non-null  int64 \n",
      " 29  Celebrity Frequented            12189 non-null  int64 \n",
      " 30  Pre-Ordering Required           12189 non-null  int64 \n",
      " 31  Pool Table                      12189 non-null  int64 \n",
      " 32  Keto Options                    12189 non-null  int64 \n",
      " 33  Wifi                            12189 non-null  int64 \n",
      " 34  Sports TV                       12189 non-null  int64 \n",
      " 35  Beer                            12189 non-null  int64 \n",
      " 36  Variable Menu                   12189 non-null  int64 \n",
      " 37  Serves Non Veg                  12189 non-null  int64 \n",
      " 38  Table booking for Groups        12189 non-null  int64 \n",
      " 39  Poolside                        12189 non-null  int64 \n",
      " 40  Wine                            12189 non-null  int64 \n",
      " 41  Buffet                          12189 non-null  int64 \n",
      " 42  Board Games                     12189 non-null  int64 \n",
      " 43  Vegan Options                   12189 non-null  int64 \n",
      " 44  Table Reservation Not Required  12189 non-null  int64 \n",
      " 45  Table reservation required      12189 non-null  int64 \n",
      " 46  Rooftop                         12189 non-null  int64 \n",
      " 47  BYOB                            12189 non-null  int64 \n",
      " 48  Live Sports Screening           12189 non-null  int64 \n",
      " 49  Luxury Dining                   12189 non-null  int64 \n",
      " 50  Desserts and Bakes              12189 non-null  int64 \n",
      " 51  Card Upon Delivery              12189 non-null  int64 \n",
      " 52  Serves Jain Food                12189 non-null  int64 \n",
      " 53  Available for Functions         12189 non-null  int64 \n",
      " 54  Gastro Pub                      12189 non-null  int64 \n",
      " 55  Live Entertainment              12189 non-null  int64 \n",
      " 56  Couple Entry Only               12189 non-null  int64 \n",
      " 57  Above 18 Only                   12189 non-null  int64 \n",
      " 58  Indoor Seating                  12189 non-null  int64 \n",
      " 59  Free Wifi                       12189 non-null  int64 \n",
      " 60  Nightlife                       12189 non-null  int64 \n",
      " 61  Serves Cocktails                12189 non-null  int64 \n",
      " 62  Kid Friendly                    12189 non-null  int64 \n",
      " 63  Craft Beer                      12189 non-null  int64 \n",
      " 64  All Day Breakfast               12189 non-null  int64 \n",
      " 65  Gluten Free Options             12189 non-null  int64 \n",
      " 66  Table booking not available     12189 non-null  int64 \n",
      " 67  Full Bar Available              12189 non-null  int64 \n",
      " 68  Entry Fee                       12189 non-null  int64 \n",
      " 69  Self Service                    12189 non-null  int64 \n",
      " 70  Delivery Only                   12189 non-null  int64 \n",
      " 71  LGBTQIA Friendly                12189 non-null  int64 \n",
      " 72  Table booking recommended       12189 non-null  int64 \n",
      " 73  Resto Bar                       12189 non-null  int64 \n",
      " 74  Serves Alcohol                  12189 non-null  int64 \n",
      " 75  Breakfast                       12189 non-null  int64 \n",
      " 76  Catering Available              12189 non-null  int64 \n",
      " 77  Disabled Friendly               12189 non-null  int64 \n",
      " 78  Takeaway Only                   12189 non-null  int64 \n",
      "dtypes: int64(64), object(15)\n",
      "memory usage: 7.3+ MB\n"
     ]
    }
   ],
   "source": [
    "zomato.info()"
   ]
  },
  {
   "cell_type": "code",
   "execution_count": 7,
   "id": "75f0c0de",
   "metadata": {},
   "outputs": [
    {
     "data": {
      "text/html": [
       "<div>\n",
       "<style scoped>\n",
       "    .dataframe tbody tr th:only-of-type {\n",
       "        vertical-align: middle;\n",
       "    }\n",
       "\n",
       "    .dataframe tbody tr th {\n",
       "        vertical-align: top;\n",
       "    }\n",
       "\n",
       "    .dataframe thead th {\n",
       "        text-align: right;\n",
       "    }\n",
       "</style>\n",
       "<table border=\"1\" class=\"dataframe\">\n",
       "  <thead>\n",
       "    <tr style=\"text-align: right;\">\n",
       "      <th></th>\n",
       "      <th>Restaurant_Name</th>\n",
       "      <th>Locality</th>\n",
       "      <th>Sponsored</th>\n",
       "      <th>Ratings_out_of_5</th>\n",
       "      <th>Number of votes</th>\n",
       "      <th>Phone_number</th>\n",
       "      <th>Cuisines</th>\n",
       "      <th>payment_modes</th>\n",
       "      <th>Rest_timming</th>\n",
       "      <th>Detail_address</th>\n",
       "      <th>...</th>\n",
       "      <th>Self Service</th>\n",
       "      <th>Delivery Only</th>\n",
       "      <th>LGBTQIA Friendly</th>\n",
       "      <th>Table booking recommended</th>\n",
       "      <th>Resto Bar</th>\n",
       "      <th>Serves Alcohol</th>\n",
       "      <th>Breakfast</th>\n",
       "      <th>Catering Available</th>\n",
       "      <th>Disabled Friendly</th>\n",
       "      <th>Takeaway Only</th>\n",
       "    </tr>\n",
       "  </thead>\n",
       "  <tbody>\n",
       "    <tr>\n",
       "      <th>0</th>\n",
       "      <td>AB's - Absolute Barbecues</td>\n",
       "      <td>Hinjawadi</td>\n",
       "      <td>Casual Dining</td>\n",
       "      <td>4.9</td>\n",
       "      <td>7029  votes</td>\n",
       "      <td>+91 9373112211</td>\n",
       "      <td>Continental, North Indian, Chinese</td>\n",
       "      <td>Cash and Cards accepted</td>\n",
       "      <td>12noon – 4:30pm, 6:30pm – 11:30pm</td>\n",
       "      <td>Shop 206, 2nd Floor, White Square Building, Op...</td>\n",
       "      <td>...</td>\n",
       "      <td>0</td>\n",
       "      <td>0</td>\n",
       "      <td>0</td>\n",
       "      <td>1</td>\n",
       "      <td>0</td>\n",
       "      <td>0</td>\n",
       "      <td>0</td>\n",
       "      <td>0</td>\n",
       "      <td>0</td>\n",
       "      <td>0</td>\n",
       "    </tr>\n",
       "    <tr>\n",
       "      <th>1</th>\n",
       "      <td>Cafe Co2 Resto Lounge</td>\n",
       "      <td>Bhugaon</td>\n",
       "      <td>Lounge, Casual Dining</td>\n",
       "      <td>4.6</td>\n",
       "      <td>2578  votes</td>\n",
       "      <td>080 46971866</td>\n",
       "      <td>North Indian, Chinese, Continental, Kebab, Sea...</td>\n",
       "      <td>Cash and Cards accepted</td>\n",
       "      <td>11am – 4am</td>\n",
       "      <td>Near Manas Lake, Bhugaon, Pune</td>\n",
       "      <td>...</td>\n",
       "      <td>0</td>\n",
       "      <td>0</td>\n",
       "      <td>0</td>\n",
       "      <td>1</td>\n",
       "      <td>0</td>\n",
       "      <td>0</td>\n",
       "      <td>0</td>\n",
       "      <td>0</td>\n",
       "      <td>0</td>\n",
       "      <td>0</td>\n",
       "    </tr>\n",
       "    <tr>\n",
       "      <th>2</th>\n",
       "      <td>Paasha - JW Marriott Pune</td>\n",
       "      <td>Senapati Bapat Road</td>\n",
       "      <td>Fine Dining</td>\n",
       "      <td>4.6</td>\n",
       "      <td>3291  votes</td>\n",
       "      <td>080 46971369</td>\n",
       "      <td>North Indian, Kebab, Biryani</td>\n",
       "      <td>Cash,Cards and Digital Payments accepted</td>\n",
       "      <td>5:30pm – 12:30am</td>\n",
       "      <td>JW Marriott, Senapati Bapat Road, Pune</td>\n",
       "      <td>...</td>\n",
       "      <td>0</td>\n",
       "      <td>0</td>\n",
       "      <td>0</td>\n",
       "      <td>1</td>\n",
       "      <td>0</td>\n",
       "      <td>0</td>\n",
       "      <td>0</td>\n",
       "      <td>0</td>\n",
       "      <td>0</td>\n",
       "      <td>0</td>\n",
       "    </tr>\n",
       "    <tr>\n",
       "      <th>3</th>\n",
       "      <td>I Amsterdam</td>\n",
       "      <td>Hinjawadi</td>\n",
       "      <td>Casual Dining, Bar</td>\n",
       "      <td>4.3</td>\n",
       "      <td>430  votes</td>\n",
       "      <td>+91 8669698666 +91 8669697666</td>\n",
       "      <td>Asian, European, Modern Indian, Italian</td>\n",
       "      <td>Cash,Cards and Digital Payments accepted</td>\n",
       "      <td>12noon – 1am</td>\n",
       "      <td>Survey 257/1/1A, Near Raj Laxmi Petrol Pump, P...</td>\n",
       "      <td>...</td>\n",
       "      <td>0</td>\n",
       "      <td>0</td>\n",
       "      <td>0</td>\n",
       "      <td>1</td>\n",
       "      <td>0</td>\n",
       "      <td>0</td>\n",
       "      <td>0</td>\n",
       "      <td>0</td>\n",
       "      <td>0</td>\n",
       "      <td>0</td>\n",
       "    </tr>\n",
       "    <tr>\n",
       "      <th>4</th>\n",
       "      <td>FC Road Social</td>\n",
       "      <td>Shivaji Nagar</td>\n",
       "      <td>Bar, Casual Dining</td>\n",
       "      <td>4.5</td>\n",
       "      <td>2138  votes</td>\n",
       "      <td>+91 9172378889 020 29805112</td>\n",
       "      <td>North Indian, Chinese, Biryani, American, Cont...</td>\n",
       "      <td>Cash,Cards and Digital Payments accepted</td>\n",
       "      <td>9am – 1am</td>\n",
       "      <td>CTS 1183, Unit 101, 1st Floor, Mezzanine Floor...</td>\n",
       "      <td>...</td>\n",
       "      <td>0</td>\n",
       "      <td>0</td>\n",
       "      <td>1</td>\n",
       "      <td>0</td>\n",
       "      <td>0</td>\n",
       "      <td>0</td>\n",
       "      <td>1</td>\n",
       "      <td>0</td>\n",
       "      <td>0</td>\n",
       "      <td>0</td>\n",
       "    </tr>\n",
       "  </tbody>\n",
       "</table>\n",
       "<p>5 rows × 79 columns</p>\n",
       "</div>"
      ],
      "text/plain": [
       "             Restaurant_Name             Locality              Sponsored  \\\n",
       "0  AB's - Absolute Barbecues            Hinjawadi          Casual Dining   \n",
       "1      Cafe Co2 Resto Lounge              Bhugaon  Lounge, Casual Dining   \n",
       "2  Paasha - JW Marriott Pune  Senapati Bapat Road            Fine Dining   \n",
       "3                I Amsterdam            Hinjawadi     Casual Dining, Bar   \n",
       "4             FC Road Social        Shivaji Nagar     Bar, Casual Dining   \n",
       "\n",
       "  Ratings_out_of_5 Number of votes                   Phone_number  \\\n",
       "0              4.9     7029  votes                 +91 9373112211   \n",
       "1              4.6     2578  votes                   080 46971866   \n",
       "2              4.6     3291  votes                   080 46971369   \n",
       "3              4.3      430  votes  +91 8669698666 +91 8669697666   \n",
       "4              4.5     2138  votes    +91 9172378889 020 29805112   \n",
       "\n",
       "                                            Cuisines  \\\n",
       "0                 Continental, North Indian, Chinese   \n",
       "1  North Indian, Chinese, Continental, Kebab, Sea...   \n",
       "2                       North Indian, Kebab, Biryani   \n",
       "3            Asian, European, Modern Indian, Italian   \n",
       "4  North Indian, Chinese, Biryani, American, Cont...   \n",
       "\n",
       "                              payment_modes  \\\n",
       "0                   Cash and Cards accepted   \n",
       "1                   Cash and Cards accepted   \n",
       "2  Cash,Cards and Digital Payments accepted   \n",
       "3  Cash,Cards and Digital Payments accepted   \n",
       "4  Cash,Cards and Digital Payments accepted   \n",
       "\n",
       "                        Rest_timming  \\\n",
       "0  12noon – 4:30pm, 6:30pm – 11:30pm   \n",
       "1                         11am – 4am   \n",
       "2                   5:30pm – 12:30am   \n",
       "3                       12noon – 1am   \n",
       "4                          9am – 1am   \n",
       "\n",
       "                                      Detail_address  ... Self Service  \\\n",
       "0  Shop 206, 2nd Floor, White Square Building, Op...  ...            0   \n",
       "1                     Near Manas Lake, Bhugaon, Pune  ...            0   \n",
       "2             JW Marriott, Senapati Bapat Road, Pune  ...            0   \n",
       "3  Survey 257/1/1A, Near Raj Laxmi Petrol Pump, P...  ...            0   \n",
       "4  CTS 1183, Unit 101, 1st Floor, Mezzanine Floor...  ...            0   \n",
       "\n",
       "  Delivery Only LGBTQIA Friendly Table booking recommended Resto Bar  \\\n",
       "0             0                0                         1         0   \n",
       "1             0                0                         1         0   \n",
       "2             0                0                         1         0   \n",
       "3             0                0                         1         0   \n",
       "4             0                1                         0         0   \n",
       "\n",
       "   Serves Alcohol  Breakfast  Catering Available  Disabled Friendly  \\\n",
       "0               0          0                   0                  0   \n",
       "1               0          0                   0                  0   \n",
       "2               0          0                   0                  0   \n",
       "3               0          0                   0                  0   \n",
       "4               0          1                   0                  0   \n",
       "\n",
       "   Takeaway Only  \n",
       "0              0  \n",
       "1              0  \n",
       "2              0  \n",
       "3              0  \n",
       "4              0  \n",
       "\n",
       "[5 rows x 79 columns]"
      ]
     },
     "execution_count": 7,
     "metadata": {},
     "output_type": "execute_result"
    }
   ],
   "source": [
    "zomato.head()"
   ]
  },
  {
   "cell_type": "code",
   "execution_count": 41,
   "id": "b2150193",
   "metadata": {},
   "outputs": [],
   "source": [
    "z= zomato.drop(['Disabled Friendly','Catering Available','Table booking not available','Takeaway Only','Delivery Only',\n",
    "               'Self Service','Entry Fee','Table booking not available','Craft Beer','Serves Cocktails','Gastro Pub','Live Entertainment',\n",
    "               'Card Upon Delivery','Available for Functions','Live Sports Screening','Table Reservation Not Required','Board Games',\n",
    "               'Buffet','Wine','Poolside','Pool Table','Beer','BYOB','Table booking for Groups','Sports TV','Pre-Ordering Required',\n",
    "               'Celebrity Frequented','Outdoor Seating','City View','Gaming Are','Bulk Orders Accepted','Wine and Beer','Phone_number'],axis=1) "
   ]
  },
  {
   "cell_type": "code",
   "execution_count": 42,
   "id": "f058f693",
   "metadata": {},
   "outputs": [
    {
     "name": "stdout",
     "output_type": "stream",
     "text": [
      "<class 'pandas.core.frame.DataFrame'>\n",
      "RangeIndex: 12189 entries, 0 to 12188\n",
      "Data columns (total 47 columns):\n",
      " #   Column                      Non-Null Count  Dtype \n",
      "---  ------                      --------------  ----- \n",
      " 0   Restaurant_Name             12189 non-null  object\n",
      " 1   Locality                    12189 non-null  object\n",
      " 2   Sponsored                   12189 non-null  object\n",
      " 3   Ratings_out_of_5            12189 non-null  object\n",
      " 4   Number of votes             12189 non-null  object\n",
      " 5   Cuisines                    12189 non-null  object\n",
      " 6   payment_modes               12189 non-null  object\n",
      " 7   Rest_timming                12189 non-null  object\n",
      " 8   Detail_address              12189 non-null  object\n",
      " 9   5_star_review_percentage    12189 non-null  object\n",
      " 10  4_star_review_percentage    12189 non-null  object\n",
      " 11  3_star_review_percentage    12189 non-null  object\n",
      " 12  2_star_review_percentage    12189 non-null  object\n",
      " 13  1_star_review_percentage    12189 non-null  object\n",
      " 14  Dance Floor                 12189 non-null  int64 \n",
      " 15  Lunch Menu                  12189 non-null  int64 \n",
      " 16  4/5 Star                    12189 non-null  int64 \n",
      " 17  Free Parking                12189 non-null  int64 \n",
      " 18  Pet Friendly                12189 non-null  int64 \n",
      " 19  Vegetarian Only             12189 non-null  int64 \n",
      " 20  Brunch                      12189 non-null  int64 \n",
      " 21  Wheelchair Accessible       12189 non-null  int64 \n",
      " 22  Home Delivery               12189 non-null  int64 \n",
      " 23  Keto Options                12189 non-null  int64 \n",
      " 24  Wifi                        12189 non-null  int64 \n",
      " 25  Variable Menu               12189 non-null  int64 \n",
      " 26  Serves Non Veg              12189 non-null  int64 \n",
      " 27  Vegan Options               12189 non-null  int64 \n",
      " 28  Table reservation required  12189 non-null  int64 \n",
      " 29  Rooftop                     12189 non-null  int64 \n",
      " 30  Luxury Dining               12189 non-null  int64 \n",
      " 31  Desserts and Bakes          12189 non-null  int64 \n",
      " 32  Serves Jain Food            12189 non-null  int64 \n",
      " 33  Couple Entry Only           12189 non-null  int64 \n",
      " 34  Above 18 Only               12189 non-null  int64 \n",
      " 35  Indoor Seating              12189 non-null  int64 \n",
      " 36  Free Wifi                   12189 non-null  int64 \n",
      " 37  Nightlife                   12189 non-null  int64 \n",
      " 38  Kid Friendly                12189 non-null  int64 \n",
      " 39  All Day Breakfast           12189 non-null  int64 \n",
      " 40  Gluten Free Options         12189 non-null  int64 \n",
      " 41  Full Bar Available          12189 non-null  int64 \n",
      " 42  LGBTQIA Friendly            12189 non-null  int64 \n",
      " 43  Table booking recommended   12189 non-null  int64 \n",
      " 44  Resto Bar                   12189 non-null  int64 \n",
      " 45  Serves Alcohol              12189 non-null  int64 \n",
      " 46  Breakfast                   12189 non-null  int64 \n",
      "dtypes: int64(33), object(14)\n",
      "memory usage: 4.4+ MB\n"
     ]
    }
   ],
   "source": [
    "z.info()"
   ]
  },
  {
   "cell_type": "code",
   "execution_count": 44,
   "id": "bfa8c532",
   "metadata": {},
   "outputs": [
    {
     "data": {
      "text/plain": [
       "55"
      ]
     },
     "execution_count": 44,
     "metadata": {},
     "output_type": "execute_result"
    }
   ],
   "source": [
    "z.duplicated().sum()"
   ]
  },
  {
   "cell_type": "code",
   "execution_count": 45,
   "id": "d7babb86",
   "metadata": {},
   "outputs": [
    {
     "data": {
      "text/html": [
       "<div>\n",
       "<style scoped>\n",
       "    .dataframe tbody tr th:only-of-type {\n",
       "        vertical-align: middle;\n",
       "    }\n",
       "\n",
       "    .dataframe tbody tr th {\n",
       "        vertical-align: top;\n",
       "    }\n",
       "\n",
       "    .dataframe thead th {\n",
       "        text-align: right;\n",
       "    }\n",
       "</style>\n",
       "<table border=\"1\" class=\"dataframe\">\n",
       "  <thead>\n",
       "    <tr style=\"text-align: right;\">\n",
       "      <th></th>\n",
       "      <th>Restaurant_Name</th>\n",
       "      <th>Locality</th>\n",
       "      <th>Sponsored</th>\n",
       "      <th>Ratings_out_of_5</th>\n",
       "      <th>Number of votes</th>\n",
       "      <th>Cuisines</th>\n",
       "      <th>payment_modes</th>\n",
       "      <th>Rest_timming</th>\n",
       "      <th>Detail_address</th>\n",
       "      <th>5_star_review_percentage</th>\n",
       "      <th>...</th>\n",
       "      <th>Nightlife</th>\n",
       "      <th>Kid Friendly</th>\n",
       "      <th>All Day Breakfast</th>\n",
       "      <th>Gluten Free Options</th>\n",
       "      <th>Full Bar Available</th>\n",
       "      <th>LGBTQIA Friendly</th>\n",
       "      <th>Table booking recommended</th>\n",
       "      <th>Resto Bar</th>\n",
       "      <th>Serves Alcohol</th>\n",
       "      <th>Breakfast</th>\n",
       "    </tr>\n",
       "  </thead>\n",
       "  <tbody>\n",
       "    <tr>\n",
       "      <th>0</th>\n",
       "      <td>AB's - Absolute Barbecues</td>\n",
       "      <td>Hinjawadi</td>\n",
       "      <td>Casual Dining</td>\n",
       "      <td>4.9</td>\n",
       "      <td>7029  votes</td>\n",
       "      <td>Continental, North Indian, Chinese</td>\n",
       "      <td>Cash and Cards accepted</td>\n",
       "      <td>12noon – 4:30pm, 6:30pm – 11:30pm</td>\n",
       "      <td>Shop 206, 2nd Floor, White Square Building, Op...</td>\n",
       "      <td>79%</td>\n",
       "      <td>...</td>\n",
       "      <td>0</td>\n",
       "      <td>0</td>\n",
       "      <td>0</td>\n",
       "      <td>0</td>\n",
       "      <td>1</td>\n",
       "      <td>0</td>\n",
       "      <td>1</td>\n",
       "      <td>0</td>\n",
       "      <td>0</td>\n",
       "      <td>0</td>\n",
       "    </tr>\n",
       "    <tr>\n",
       "      <th>1</th>\n",
       "      <td>Cafe Co2 Resto Lounge</td>\n",
       "      <td>Bhugaon</td>\n",
       "      <td>Lounge, Casual Dining</td>\n",
       "      <td>4.6</td>\n",
       "      <td>2578  votes</td>\n",
       "      <td>North Indian, Chinese, Continental, Kebab, Sea...</td>\n",
       "      <td>Cash and Cards accepted</td>\n",
       "      <td>11am – 4am</td>\n",
       "      <td>Near Manas Lake, Bhugaon, Pune</td>\n",
       "      <td>61%</td>\n",
       "      <td>...</td>\n",
       "      <td>1</td>\n",
       "      <td>0</td>\n",
       "      <td>0</td>\n",
       "      <td>0</td>\n",
       "      <td>1</td>\n",
       "      <td>0</td>\n",
       "      <td>1</td>\n",
       "      <td>0</td>\n",
       "      <td>0</td>\n",
       "      <td>0</td>\n",
       "    </tr>\n",
       "    <tr>\n",
       "      <th>2</th>\n",
       "      <td>Paasha - JW Marriott Pune</td>\n",
       "      <td>Senapati Bapat Road</td>\n",
       "      <td>Fine Dining</td>\n",
       "      <td>4.6</td>\n",
       "      <td>3291  votes</td>\n",
       "      <td>North Indian, Kebab, Biryani</td>\n",
       "      <td>Cash,Cards and Digital Payments accepted</td>\n",
       "      <td>5:30pm – 12:30am</td>\n",
       "      <td>JW Marriott, Senapati Bapat Road, Pune</td>\n",
       "      <td>62%</td>\n",
       "      <td>...</td>\n",
       "      <td>0</td>\n",
       "      <td>0</td>\n",
       "      <td>0</td>\n",
       "      <td>0</td>\n",
       "      <td>1</td>\n",
       "      <td>0</td>\n",
       "      <td>1</td>\n",
       "      <td>0</td>\n",
       "      <td>0</td>\n",
       "      <td>0</td>\n",
       "    </tr>\n",
       "    <tr>\n",
       "      <th>3</th>\n",
       "      <td>I Amsterdam</td>\n",
       "      <td>Hinjawadi</td>\n",
       "      <td>Casual Dining, Bar</td>\n",
       "      <td>4.3</td>\n",
       "      <td>430  votes</td>\n",
       "      <td>Asian, European, Modern Indian, Italian</td>\n",
       "      <td>Cash,Cards and Digital Payments accepted</td>\n",
       "      <td>12noon – 1am</td>\n",
       "      <td>Survey 257/1/1A, Near Raj Laxmi Petrol Pump, P...</td>\n",
       "      <td>45%</td>\n",
       "      <td>...</td>\n",
       "      <td>0</td>\n",
       "      <td>0</td>\n",
       "      <td>0</td>\n",
       "      <td>0</td>\n",
       "      <td>1</td>\n",
       "      <td>0</td>\n",
       "      <td>1</td>\n",
       "      <td>0</td>\n",
       "      <td>0</td>\n",
       "      <td>0</td>\n",
       "    </tr>\n",
       "    <tr>\n",
       "      <th>4</th>\n",
       "      <td>FC Road Social</td>\n",
       "      <td>Shivaji Nagar</td>\n",
       "      <td>Bar, Casual Dining</td>\n",
       "      <td>4.5</td>\n",
       "      <td>2138  votes</td>\n",
       "      <td>North Indian, Chinese, Biryani, American, Cont...</td>\n",
       "      <td>Cash,Cards and Digital Payments accepted</td>\n",
       "      <td>9am – 1am</td>\n",
       "      <td>CTS 1183, Unit 101, 1st Floor, Mezzanine Floor...</td>\n",
       "      <td>63%</td>\n",
       "      <td>...</td>\n",
       "      <td>1</td>\n",
       "      <td>0</td>\n",
       "      <td>0</td>\n",
       "      <td>0</td>\n",
       "      <td>1</td>\n",
       "      <td>1</td>\n",
       "      <td>0</td>\n",
       "      <td>0</td>\n",
       "      <td>0</td>\n",
       "      <td>1</td>\n",
       "    </tr>\n",
       "  </tbody>\n",
       "</table>\n",
       "<p>5 rows × 47 columns</p>\n",
       "</div>"
      ],
      "text/plain": [
       "             Restaurant_Name             Locality              Sponsored  \\\n",
       "0  AB's - Absolute Barbecues            Hinjawadi          Casual Dining   \n",
       "1      Cafe Co2 Resto Lounge              Bhugaon  Lounge, Casual Dining   \n",
       "2  Paasha - JW Marriott Pune  Senapati Bapat Road            Fine Dining   \n",
       "3                I Amsterdam            Hinjawadi     Casual Dining, Bar   \n",
       "4             FC Road Social        Shivaji Nagar     Bar, Casual Dining   \n",
       "\n",
       "  Ratings_out_of_5 Number of votes  \\\n",
       "0              4.9     7029  votes   \n",
       "1              4.6     2578  votes   \n",
       "2              4.6     3291  votes   \n",
       "3              4.3      430  votes   \n",
       "4              4.5     2138  votes   \n",
       "\n",
       "                                            Cuisines  \\\n",
       "0                 Continental, North Indian, Chinese   \n",
       "1  North Indian, Chinese, Continental, Kebab, Sea...   \n",
       "2                       North Indian, Kebab, Biryani   \n",
       "3            Asian, European, Modern Indian, Italian   \n",
       "4  North Indian, Chinese, Biryani, American, Cont...   \n",
       "\n",
       "                              payment_modes  \\\n",
       "0                   Cash and Cards accepted   \n",
       "1                   Cash and Cards accepted   \n",
       "2  Cash,Cards and Digital Payments accepted   \n",
       "3  Cash,Cards and Digital Payments accepted   \n",
       "4  Cash,Cards and Digital Payments accepted   \n",
       "\n",
       "                        Rest_timming  \\\n",
       "0  12noon – 4:30pm, 6:30pm – 11:30pm   \n",
       "1                         11am – 4am   \n",
       "2                   5:30pm – 12:30am   \n",
       "3                       12noon – 1am   \n",
       "4                          9am – 1am   \n",
       "\n",
       "                                      Detail_address 5_star_review_percentage  \\\n",
       "0  Shop 206, 2nd Floor, White Square Building, Op...                      79%   \n",
       "1                     Near Manas Lake, Bhugaon, Pune                      61%   \n",
       "2             JW Marriott, Senapati Bapat Road, Pune                      62%   \n",
       "3  Survey 257/1/1A, Near Raj Laxmi Petrol Pump, P...                      45%   \n",
       "4  CTS 1183, Unit 101, 1st Floor, Mezzanine Floor...                      63%   \n",
       "\n",
       "   ... Nightlife Kid Friendly All Day Breakfast Gluten Free Options  \\\n",
       "0  ...         0            0                 0                   0   \n",
       "1  ...         1            0                 0                   0   \n",
       "2  ...         0            0                 0                   0   \n",
       "3  ...         0            0                 0                   0   \n",
       "4  ...         1            0                 0                   0   \n",
       "\n",
       "   Full Bar Available  LGBTQIA Friendly  Table booking recommended  Resto Bar  \\\n",
       "0                   1                 0                          1          0   \n",
       "1                   1                 0                          1          0   \n",
       "2                   1                 0                          1          0   \n",
       "3                   1                 0                          1          0   \n",
       "4                   1                 1                          0          0   \n",
       "\n",
       "   Serves Alcohol  Breakfast  \n",
       "0               0          0  \n",
       "1               0          0  \n",
       "2               0          0  \n",
       "3               0          0  \n",
       "4               0          1  \n",
       "\n",
       "[5 rows x 47 columns]"
      ]
     },
     "execution_count": 45,
     "metadata": {},
     "output_type": "execute_result"
    }
   ],
   "source": [
    "z.drop_duplicates(inplace=True)\n",
    "z.head()"
   ]
  },
  {
   "cell_type": "code",
   "execution_count": 46,
   "id": "28d36baf",
   "metadata": {},
   "outputs": [
    {
     "data": {
      "text/plain": [
       "Restaurant_Name               0\n",
       "Locality                      0\n",
       "Sponsored                     0\n",
       "Ratings_out_of_5              0\n",
       "Number of votes               0\n",
       "Cuisines                      0\n",
       "payment_modes                 0\n",
       "Rest_timming                  0\n",
       "Detail_address                0\n",
       "5_star_review_percentage      0\n",
       "4_star_review_percentage      0\n",
       "3_star_review_percentage      0\n",
       "2_star_review_percentage      0\n",
       "1_star_review_percentage      0\n",
       "Dance Floor                   0\n",
       "Lunch Menu                    0\n",
       "4/5 Star                      0\n",
       "Free Parking                  0\n",
       "Pet Friendly                  0\n",
       "Vegetarian Only               0\n",
       "Brunch                        0\n",
       "Wheelchair Accessible         0\n",
       "Home Delivery                 0\n",
       "Keto Options                  0\n",
       "Wifi                          0\n",
       "Variable Menu                 0\n",
       "Serves Non Veg                0\n",
       "Vegan Options                 0\n",
       "Table reservation required    0\n",
       "Rooftop                       0\n",
       "Luxury Dining                 0\n",
       "Desserts and Bakes            0\n",
       "Serves Jain Food              0\n",
       "Couple Entry Only             0\n",
       "Above 18 Only                 0\n",
       "Indoor Seating                0\n",
       "Free Wifi                     0\n",
       "Nightlife                     0\n",
       "Kid Friendly                  0\n",
       "All Day Breakfast             0\n",
       "Gluten Free Options           0\n",
       "Full Bar Available            0\n",
       "LGBTQIA Friendly              0\n",
       "Table booking recommended     0\n",
       "Resto Bar                     0\n",
       "Serves Alcohol                0\n",
       "Breakfast                     0\n",
       "dtype: int64"
      ]
     },
     "execution_count": 46,
     "metadata": {},
     "output_type": "execute_result"
    }
   ],
   "source": [
    "z.isnull().sum()\n"
   ]
  },
  {
   "cell_type": "markdown",
   "id": "a65e41c2",
   "metadata": {},
   "source": [
    "### Different localities"
   ]
  },
  {
   "cell_type": "code",
   "execution_count": 47,
   "id": "5011298e",
   "metadata": {},
   "outputs": [
    {
     "data": {
      "text/plain": [
       "array(['Hinjawadi', 'Bhugaon', 'Senapati Bapat Road', 'Shivaji Nagar',\n",
       "       'Wakad', 'East Street', 'Yerawada', 'Bavdhan', 'Kalyani Nagar',\n",
       "       'Narhe', 'Bund Garden Road', 'Viman Nagar', 'Magarpatta',\n",
       "       'Deccan Gymkhana', 'Hadapsar', 'Baner', 'Sus', 'Shivapur',\n",
       "       'Mundhwa', 'FC Road', 'Kothrud', 'Koregaon Park', 'Erandwane',\n",
       "       'MG Road', 'Karve Nagar', 'Sadashiv Peth', 'Pune University',\n",
       "       'JM Road', 'Dhole Patil Road', 'Camp Area', 'Pimple Saudagar',\n",
       "       'Kharadi', 'Ravet', 'Aundh', 'Nigdi', 'Kondhwa', 'Swargate',\n",
       "       'Katraj', 'Khadki', 'Salunkhe Vihar Road', 'Law College Road',\n",
       "       'Pimple Nilakh', 'Pashan', 'Lonavala', 'NIBM Road', 'Balewadi',\n",
       "       'Dange Chowk', 'SB Road - Aundh', 'Pimpri Chinchwad Area',\n",
       "       'Wadgaon Sheri', 'Pimpri', 'Wanowrie Kondhwa Area', 'Chinchwad',\n",
       "       'Chandan Nagar', 'Fatima Nagar', 'Budhwar Peth', 'Warje',\n",
       "       'Wagholi', 'Akurdi', 'Bibvewadi', 'Rasta Peth', 'KP and Kalyani',\n",
       "       'Sinhgad Road', 'Model Colony', 'Parvati',\n",
       "       'Magarpatta, Pune Sholapur Rd', 'Pimple Gurav', 'Lohegaon',\n",
       "       'Dhankawadi', 'Bhosari', 'Satara Road', 'Talawade', 'Mahalunge',\n",
       "       'Tilak Road', 'Old Mumbai-Pune Highway', 'Shukrawar Peth',\n",
       "       'Kothrud Area', 'Deccan & Peths', 'Ghorpadi', 'Dhanori',\n",
       "       'Wanowrie', 'Dehu Road', 'Pune-Solapur Road', 'Vishrantwadi',\n",
       "       'Shaniwar Peth', 'Khadakwasla', 'B.T. Kawade Road', 'Lavale',\n",
       "       'Talegaon', 'Shivane', 'Mulshi Road', 'Chakan', 'Expressway',\n",
       "       'Lavasa', 'Camp-MG Road Area', 'Koregaon Bhima', 'Khandala',\n",
       "       'Around Pune', 'Bopkhel'], dtype=object)"
      ]
     },
     "execution_count": 47,
     "metadata": {},
     "output_type": "execute_result"
    }
   ],
   "source": [
    "z['Locality'].unique()"
   ]
  },
  {
   "cell_type": "code",
   "execution_count": 48,
   "id": "5d9a691b",
   "metadata": {},
   "outputs": [
    {
     "data": {
      "text/plain": [
       "array(['4.9', '4.6', '4.3', '4.5', '4.0', '4.7', '4.2', '4.4', '4.1',\n",
       "       '3.7', '0', '4.8', '3.9', '3.6', '3.4', '3.8', '2.9', '3.5', '3.2',\n",
       "       '3.3', '2.1', '2.5', '2.4', '3.0', '3.1', '2.7', '2.6', '2.8',\n",
       "       '2.3', '-', '2.2', '2.0', '3', '4'], dtype=object)"
      ]
     },
     "execution_count": 48,
     "metadata": {},
     "output_type": "execute_result"
    }
   ],
   "source": [
    "z['Ratings_out_of_5'].unique()"
   ]
  },
  {
   "cell_type": "code",
   "execution_count": 49,
   "id": "749050e8",
   "metadata": {},
   "outputs": [],
   "source": [
    "z.replace('-',0 ,inplace=True)\n",
    "z['Ratings_out_of_5']=z['Ratings_out_of_5'].astype(float) #changing the datatype of rate from object to float"
   ]
  },
  {
   "cell_type": "code",
   "execution_count": 50,
   "id": "10c1bb54",
   "metadata": {},
   "outputs": [
    {
     "data": {
      "text/plain": [
       "array([4.9, 4.6, 4.3, 4.5, 4. , 4.7, 4.2, 4.4, 4.1, 3.7, 0. , 4.8, 3.9,\n",
       "       3.6, 3.4, 3.8, 2.9, 3.5, 3.2, 3.3, 2.1, 2.5, 2.4, 3. , 3.1, 2.7,\n",
       "       2.6, 2.8, 2.3, 2.2, 2. ])"
      ]
     },
     "execution_count": 50,
     "metadata": {},
     "output_type": "execute_result"
    }
   ],
   "source": [
    "z['Ratings_out_of_5'].unique()"
   ]
  },
  {
   "cell_type": "markdown",
   "id": "106cdfb7",
   "metadata": {},
   "source": [
    "### Popular Restaurants in Pune"
   ]
  },
  {
   "cell_type": "code",
   "execution_count": 51,
   "id": "581d3752",
   "metadata": {},
   "outputs": [
    {
     "data": {
      "text/html": [
       "<div>\n",
       "<style scoped>\n",
       "    .dataframe tbody tr th:only-of-type {\n",
       "        vertical-align: middle;\n",
       "    }\n",
       "\n",
       "    .dataframe tbody tr th {\n",
       "        vertical-align: top;\n",
       "    }\n",
       "\n",
       "    .dataframe thead th {\n",
       "        text-align: right;\n",
       "    }\n",
       "</style>\n",
       "<table border=\"1\" class=\"dataframe\">\n",
       "  <thead>\n",
       "    <tr style=\"text-align: right;\">\n",
       "      <th></th>\n",
       "      <th>Restaurant_Name</th>\n",
       "      <th>Locality</th>\n",
       "      <th>Sponsored</th>\n",
       "      <th>Ratings_out_of_5</th>\n",
       "      <th>Number of votes</th>\n",
       "      <th>Cuisines</th>\n",
       "      <th>payment_modes</th>\n",
       "      <th>Rest_timming</th>\n",
       "      <th>Detail_address</th>\n",
       "      <th>5_star_review_percentage</th>\n",
       "      <th>...</th>\n",
       "      <th>Nightlife</th>\n",
       "      <th>Kid Friendly</th>\n",
       "      <th>All Day Breakfast</th>\n",
       "      <th>Gluten Free Options</th>\n",
       "      <th>Full Bar Available</th>\n",
       "      <th>LGBTQIA Friendly</th>\n",
       "      <th>Table booking recommended</th>\n",
       "      <th>Resto Bar</th>\n",
       "      <th>Serves Alcohol</th>\n",
       "      <th>Breakfast</th>\n",
       "    </tr>\n",
       "  </thead>\n",
       "  <tbody>\n",
       "    <tr>\n",
       "      <th>0</th>\n",
       "      <td>AB's - Absolute Barbecues</td>\n",
       "      <td>Hinjawadi</td>\n",
       "      <td>Casual Dining</td>\n",
       "      <td>4.9</td>\n",
       "      <td>7029  votes</td>\n",
       "      <td>Continental, North Indian, Chinese</td>\n",
       "      <td>Cash and Cards accepted</td>\n",
       "      <td>12noon – 4:30pm, 6:30pm – 11:30pm</td>\n",
       "      <td>Shop 206, 2nd Floor, White Square Building, Op...</td>\n",
       "      <td>79%</td>\n",
       "      <td>...</td>\n",
       "      <td>0</td>\n",
       "      <td>0</td>\n",
       "      <td>0</td>\n",
       "      <td>0</td>\n",
       "      <td>1</td>\n",
       "      <td>0</td>\n",
       "      <td>1</td>\n",
       "      <td>0</td>\n",
       "      <td>0</td>\n",
       "      <td>0</td>\n",
       "    </tr>\n",
       "    <tr>\n",
       "      <th>43</th>\n",
       "      <td>Babylon Craft Brewery</td>\n",
       "      <td>Erandwane</td>\n",
       "      <td>Microbrewery</td>\n",
       "      <td>4.9</td>\n",
       "      <td>Based on 216 votes</td>\n",
       "      <td>North Indian, Chinese, Continental, Mughlai, A...</td>\n",
       "      <td>Cash and Cards accepted</td>\n",
       "      <td>11am – 12midnight</td>\n",
       "      <td>6th Floor, House Of Nosh, CTS 1365, Gulawani M...</td>\n",
       "      <td>70%</td>\n",
       "      <td>...</td>\n",
       "      <td>1</td>\n",
       "      <td>1</td>\n",
       "      <td>0</td>\n",
       "      <td>0</td>\n",
       "      <td>1</td>\n",
       "      <td>0</td>\n",
       "      <td>1</td>\n",
       "      <td>1</td>\n",
       "      <td>0</td>\n",
       "      <td>0</td>\n",
       "    </tr>\n",
       "    <tr>\n",
       "      <th>91</th>\n",
       "      <td>Pop Tate's</td>\n",
       "      <td>Viman Nagar</td>\n",
       "      <td>Bar, Casual Dining</td>\n",
       "      <td>4.9</td>\n",
       "      <td>1944  votes</td>\n",
       "      <td>Continental, Italian, Chinese</td>\n",
       "      <td>Cash,Cards and Digital Payments accepted</td>\n",
       "      <td>11:30am – 1am</td>\n",
       "      <td>Shop T08, 3rd Floor, Phoenix Market City Mall,...</td>\n",
       "      <td>77%</td>\n",
       "      <td>...</td>\n",
       "      <td>1</td>\n",
       "      <td>0</td>\n",
       "      <td>0</td>\n",
       "      <td>0</td>\n",
       "      <td>1</td>\n",
       "      <td>0</td>\n",
       "      <td>0</td>\n",
       "      <td>0</td>\n",
       "      <td>0</td>\n",
       "      <td>0</td>\n",
       "    </tr>\n",
       "    <tr>\n",
       "      <th>98</th>\n",
       "      <td>Cafe Paashh</td>\n",
       "      <td>Kalyani Nagar</td>\n",
       "      <td>Café</td>\n",
       "      <td>4.9</td>\n",
       "      <td>378  votes</td>\n",
       "      <td>Cafe, European, Healthy Food, Modern Indian</td>\n",
       "      <td>Cash and Cards accepted</td>\n",
       "      <td>11:30am – 10:30pm</td>\n",
       "      <td>Plot E1, E2, Hiremath Park, Near Orange Ivy Sc...</td>\n",
       "      <td>76%</td>\n",
       "      <td>...</td>\n",
       "      <td>0</td>\n",
       "      <td>0</td>\n",
       "      <td>0</td>\n",
       "      <td>0</td>\n",
       "      <td>0</td>\n",
       "      <td>0</td>\n",
       "      <td>0</td>\n",
       "      <td>0</td>\n",
       "      <td>0</td>\n",
       "      <td>0</td>\n",
       "    </tr>\n",
       "    <tr>\n",
       "      <th>124</th>\n",
       "      <td>Chili's American Grill &amp; Bar</td>\n",
       "      <td>Viman Nagar</td>\n",
       "      <td>Casual Dining, Bar</td>\n",
       "      <td>4.9</td>\n",
       "      <td>5334  votes</td>\n",
       "      <td>Mexican, American, Tex-Mex, Salad, Burger</td>\n",
       "      <td>Cash,Cards,Meal Coupons and Digital Payments a...</td>\n",
       "      <td>12noon – 11pm</td>\n",
       "      <td>UG 49, Phoenix Market City, Nagar Road, Viman ...</td>\n",
       "      <td>74%</td>\n",
       "      <td>...</td>\n",
       "      <td>0</td>\n",
       "      <td>0</td>\n",
       "      <td>0</td>\n",
       "      <td>0</td>\n",
       "      <td>1</td>\n",
       "      <td>0</td>\n",
       "      <td>0</td>\n",
       "      <td>0</td>\n",
       "      <td>0</td>\n",
       "      <td>0</td>\n",
       "    </tr>\n",
       "    <tr>\n",
       "      <th>242</th>\n",
       "      <td>Zeta - Hyatt Regency Pune</td>\n",
       "      <td>Viman Nagar</td>\n",
       "      <td>Casual Dining</td>\n",
       "      <td>4.9</td>\n",
       "      <td>228  votes</td>\n",
       "      <td>European, Continental, Healthy Food, Italian, ...</td>\n",
       "      <td>Cash and Cards accepted</td>\n",
       "      <td>11am – 11pm</td>\n",
       "      <td>Hyatt Regency, Weikfield IT Park, Nagar Road, ...</td>\n",
       "      <td>82%</td>\n",
       "      <td>...</td>\n",
       "      <td>0</td>\n",
       "      <td>0</td>\n",
       "      <td>0</td>\n",
       "      <td>0</td>\n",
       "      <td>1</td>\n",
       "      <td>0</td>\n",
       "      <td>1</td>\n",
       "      <td>0</td>\n",
       "      <td>0</td>\n",
       "      <td>0</td>\n",
       "    </tr>\n",
       "  </tbody>\n",
       "</table>\n",
       "<p>6 rows × 47 columns</p>\n",
       "</div>"
      ],
      "text/plain": [
       "                  Restaurant_Name       Locality           Sponsored  \\\n",
       "0       AB's - Absolute Barbecues      Hinjawadi       Casual Dining   \n",
       "43          Babylon Craft Brewery      Erandwane        Microbrewery   \n",
       "91                     Pop Tate's    Viman Nagar  Bar, Casual Dining   \n",
       "98                    Cafe Paashh  Kalyani Nagar                Café   \n",
       "124  Chili's American Grill & Bar    Viman Nagar  Casual Dining, Bar   \n",
       "242     Zeta - Hyatt Regency Pune    Viman Nagar       Casual Dining   \n",
       "\n",
       "     Ratings_out_of_5     Number of votes  \\\n",
       "0                 4.9         7029  votes   \n",
       "43                4.9  Based on 216 votes   \n",
       "91                4.9         1944  votes   \n",
       "98                4.9          378  votes   \n",
       "124               4.9         5334  votes   \n",
       "242               4.9          228  votes   \n",
       "\n",
       "                                              Cuisines  \\\n",
       "0                   Continental, North Indian, Chinese   \n",
       "43   North Indian, Chinese, Continental, Mughlai, A...   \n",
       "91                       Continental, Italian, Chinese   \n",
       "98         Cafe, European, Healthy Food, Modern Indian   \n",
       "124          Mexican, American, Tex-Mex, Salad, Burger   \n",
       "242  European, Continental, Healthy Food, Italian, ...   \n",
       "\n",
       "                                         payment_modes  \\\n",
       "0                              Cash and Cards accepted   \n",
       "43                             Cash and Cards accepted   \n",
       "91            Cash,Cards and Digital Payments accepted   \n",
       "98                             Cash and Cards accepted   \n",
       "124  Cash,Cards,Meal Coupons and Digital Payments a...   \n",
       "242                            Cash and Cards accepted   \n",
       "\n",
       "                          Rest_timming  \\\n",
       "0    12noon – 4:30pm, 6:30pm – 11:30pm   \n",
       "43                   11am – 12midnight   \n",
       "91                       11:30am – 1am   \n",
       "98                   11:30am – 10:30pm   \n",
       "124                      12noon – 11pm   \n",
       "242                        11am – 11pm   \n",
       "\n",
       "                                        Detail_address  \\\n",
       "0    Shop 206, 2nd Floor, White Square Building, Op...   \n",
       "43   6th Floor, House Of Nosh, CTS 1365, Gulawani M...   \n",
       "91   Shop T08, 3rd Floor, Phoenix Market City Mall,...   \n",
       "98   Plot E1, E2, Hiremath Park, Near Orange Ivy Sc...   \n",
       "124  UG 49, Phoenix Market City, Nagar Road, Viman ...   \n",
       "242  Hyatt Regency, Weikfield IT Park, Nagar Road, ...   \n",
       "\n",
       "    5_star_review_percentage  ... Nightlife Kid Friendly All Day Breakfast  \\\n",
       "0                        79%  ...         0            0                 0   \n",
       "43                       70%  ...         1            1                 0   \n",
       "91                       77%  ...         1            0                 0   \n",
       "98                       76%  ...         0            0                 0   \n",
       "124                      74%  ...         0            0                 0   \n",
       "242                      82%  ...         0            0                 0   \n",
       "\n",
       "    Gluten Free Options  Full Bar Available  LGBTQIA Friendly  \\\n",
       "0                     0                   1                 0   \n",
       "43                    0                   1                 0   \n",
       "91                    0                   1                 0   \n",
       "98                    0                   0                 0   \n",
       "124                   0                   1                 0   \n",
       "242                   0                   1                 0   \n",
       "\n",
       "     Table booking recommended  Resto Bar  Serves Alcohol  Breakfast  \n",
       "0                            1          0               0          0  \n",
       "43                           1          1               0          0  \n",
       "91                           0          0               0          0  \n",
       "98                           0          0               0          0  \n",
       "124                          0          0               0          0  \n",
       "242                          1          0               0          0  \n",
       "\n",
       "[6 rows x 47 columns]"
      ]
     },
     "execution_count": 51,
     "metadata": {},
     "output_type": "execute_result"
    }
   ],
   "source": [
    "z[z['Ratings_out_of_5'] > 4.8]\n"
   ]
  },
  {
   "cell_type": "markdown",
   "id": "4e3b4ce8",
   "metadata": {},
   "source": [
    "## Data Visualisation"
   ]
  },
  {
   "cell_type": "markdown",
   "id": "6d5d159b",
   "metadata": {},
   "source": [
    "###  Calculating Average Rating of each Resturant"
   ]
  },
  {
   "cell_type": "code",
   "execution_count": 52,
   "id": "4b7e489c",
   "metadata": {},
   "outputs": [
    {
     "data": {
      "image/png": "[encoded data removed]",
      "text/plain": [
       "<Figure size 1080x576 with 1 Axes>"
      ]
     },
     "metadata": {
      "needs_background": "light"
     },
     "output_type": "display_data"
    }
   ],
   "source": [
    "avg=z.groupby('Restaurant_Name')['Ratings_out_of_5'].mean().nlargest(20).plot.bar()\n",
    "fig =plt.gcf()\n",
    "fig.set_size_inches(15,8)\n"
   ]
  },
  {
   "cell_type": "markdown",
   "id": "9b192934",
   "metadata": {},
   "source": [
    "### Pune Nightlife"
   ]
  },
  {
   "cell_type": "code",
   "execution_count": 53,
   "id": "395ef935",
   "metadata": {},
   "outputs": [
    {
     "data": {
      "text/plain": [
       "Text(0.5, 1.0, 'Nightlife in Pune restaurants')"
      ]
     },
     "execution_count": 53,
     "metadata": {},
     "output_type": "execute_result"
    },
    {
     "data": {
      "image/png": "[encoded data removed]",
      "text/plain": [
       "<Figure size 720x720 with 1 Axes>"
      ]
     },
     "metadata": {
      "needs_background": "light"
     },
     "output_type": "display_data"
    }
   ],
   "source": [
    "sns.countplot(z['Nightlife'])\n",
    "sns.countplot(z['Nightlife']).set_xticklabels(sns.countplot(z['Nightlife']).get_xticklabels(),rotation=90,ha=\"left\")\n",
    "fig= plt.gcf()\n",
    "fig.set_size_inches(10,10)\n",
    "plt.title('Nightlife in Pune restaurants')"
   ]
  },
  {
   "cell_type": "markdown",
   "id": "d79078e2",
   "metadata": {},
   "source": [
    "## Locality Based restaurant analysis"
   ]
  },
  {
   "cell_type": "code",
   "execution_count": 54,
   "id": "83f8ef02",
   "metadata": {},
   "outputs": [
    {
     "data": {
      "text/plain": [
       "Locality\n",
       "Akurdi                   [Shawarma King, Hotel Silver Seven, Christy Re...\n",
       "Around Pune              [Jose & Isabella's Italian Pizzas, Fruit Count...\n",
       "Aundh                    [McDonald's, True Tramm Trunk, Sigree, Pink Tu...\n",
       "B.T. Kawade Road         [Babu Khan Caterers - Biryani, Saffron Exotic ...\n",
       "Balewadi                 [Lager Street - Lounge and Bar, Deewan Khana, ...\n",
       "                                               ...                        \n",
       "Wakad                    [Flechazo, Barbeque Nation - Sayaji Hotel, Bar...\n",
       "Wanowrie                 [Swiss Bakes, Peter's Pan, Brownie Point, Cake...\n",
       "Wanowrie Kondhwa Area    [Henny's Gourmet, Miya Bhai, Kafgir By Roghand...\n",
       "Warje                    [Swarnaa Vegetarian, Supreme Momos, Hyderabadi...\n",
       "Yerawada                 [Exotica, The Ritz-Carlton Tea Lounge, Baraza ...\n",
       "Name: Restaurant_Name, Length: 99, dtype: object"
      ]
     },
     "execution_count": 54,
     "metadata": {},
     "output_type": "execute_result"
    }
   ],
   "source": [
    "z.groupby('Locality')['Restaurant_Name'].unique()"
   ]
  },
  {
   "cell_type": "code",
   "execution_count": 55,
   "id": "d16704c2",
   "metadata": {},
   "outputs": [],
   "source": [
    "restaurant=[] \n",
    "location=[]\n",
    "for key,location_df in z.groupby('Locality'):\n",
    "    location.append(key)\n",
    "    restaurant.append(len(location_df['Restaurant_Name'].unique()))"
   ]
  },
  {
   "cell_type": "code",
   "execution_count": 56,
   "id": "cf597e54",
   "metadata": {},
   "outputs": [
    {
     "data": {
      "text/html": [
       "<div>\n",
       "<style scoped>\n",
       "    .dataframe tbody tr th:only-of-type {\n",
       "        vertical-align: middle;\n",
       "    }\n",
       "\n",
       "    .dataframe tbody tr th {\n",
       "        vertical-align: top;\n",
       "    }\n",
       "\n",
       "    .dataframe thead th {\n",
       "        text-align: right;\n",
       "    }\n",
       "</style>\n",
       "<table border=\"1\" class=\"dataframe\">\n",
       "  <thead>\n",
       "    <tr style=\"text-align: right;\">\n",
       "      <th></th>\n",
       "      <th>restaurant</th>\n",
       "    </tr>\n",
       "    <tr>\n",
       "      <th>location</th>\n",
       "      <th></th>\n",
       "    </tr>\n",
       "  </thead>\n",
       "  <tbody>\n",
       "    <tr>\n",
       "      <th>Pimpri</th>\n",
       "      <td>300</td>\n",
       "    </tr>\n",
       "    <tr>\n",
       "      <th>Chinchwad</th>\n",
       "      <td>310</td>\n",
       "    </tr>\n",
       "    <tr>\n",
       "      <th>Baner</th>\n",
       "      <td>383</td>\n",
       "    </tr>\n",
       "    <tr>\n",
       "      <th>Kharadi</th>\n",
       "      <td>447</td>\n",
       "    </tr>\n",
       "    <tr>\n",
       "      <th>Sinhgad Road</th>\n",
       "      <td>454</td>\n",
       "    </tr>\n",
       "    <tr>\n",
       "      <th>Viman Nagar</th>\n",
       "      <td>457</td>\n",
       "    </tr>\n",
       "    <tr>\n",
       "      <th>Hinjawadi</th>\n",
       "      <td>468</td>\n",
       "    </tr>\n",
       "    <tr>\n",
       "      <th>Wakad</th>\n",
       "      <td>518</td>\n",
       "    </tr>\n",
       "    <tr>\n",
       "      <th>Kothrud</th>\n",
       "      <td>547</td>\n",
       "    </tr>\n",
       "    <tr>\n",
       "      <th>Hadapsar</th>\n",
       "      <td>566</td>\n",
       "    </tr>\n",
       "  </tbody>\n",
       "</table>\n",
       "</div>"
      ],
      "text/plain": [
       "              restaurant\n",
       "location                \n",
       "Pimpri               300\n",
       "Chinchwad            310\n",
       "Baner                383\n",
       "Kharadi              447\n",
       "Sinhgad Road         454\n",
       "Viman Nagar          457\n",
       "Hinjawadi            468\n",
       "Wakad                518\n",
       "Kothrud              547\n",
       "Hadapsar             566"
      ]
     },
     "execution_count": 56,
     "metadata": {},
     "output_type": "execute_result"
    }
   ],
   "source": [
    "df_total=pd.DataFrame(zip(location,restaurant)) #creating data frame\n",
    "df_total.columns=['location','restaurant']\n",
    "df_total.set_index('location',inplace=True)\n",
    "df_total.sort_values(by='restaurant').tail(10)"
   ]
  },
  {
   "cell_type": "code",
   "execution_count": 23,
   "id": "656e9a25",
   "metadata": {},
   "outputs": [
    {
     "data": {
      "image/png": "[encoded data removed]",
      "text/plain": [
       "<Figure size 864x576 with 1 Axes>"
      ]
     },
     "metadata": {
      "needs_background": "light"
     },
     "output_type": "display_data"
    }
   ],
   "source": [
    "df_total.sort_values(by='restaurant').tail(10).plot.bar()\n",
    "fig =plt.gcf()\n",
    "fig.set_size_inches(12,8)"
   ]
  },
  {
   "cell_type": "markdown",
   "id": "1b975ab1",
   "metadata": {},
   "source": [
    "* This shows that Hadapsar has maximum number of restaurants"
   ]
  },
  {
   "cell_type": "code",
   "execution_count": 57,
   "id": "61112511",
   "metadata": {},
   "outputs": [
    {
     "data": {
      "text/plain": [
       "Index(['Pimpri', 'Chinchwad', 'Baner', 'Kharadi', 'Sinhgad Road',\n",
       "       'Viman Nagar', 'Hinjawadi', 'Wakad', 'Kothrud', 'Hadapsar'],\n",
       "      dtype='object', name='location')"
      ]
     },
     "execution_count": 57,
     "metadata": {},
     "output_type": "execute_result"
    }
   ],
   "source": [
    "df_total.sort_values(by='restaurant').tail(10).index"
   ]
  },
  {
   "cell_type": "markdown",
   "id": "93a1acfb",
   "metadata": {},
   "source": [
    "### Total number of Restaurants in particular Locality"
   ]
  },
  {
   "cell_type": "code",
   "execution_count": 58,
   "id": "0271dd49",
   "metadata": {},
   "outputs": [
    {
     "data": {
      "text/plain": [
       "Text(0.5, 1.0, 'No. of restaurants in a Location')"
      ]
     },
     "execution_count": 58,
     "metadata": {},
     "output_type": "execute_result"
    },
    {
     "data": {
      "image/png": "[encoded data removed]",
      "text/plain": [
       "<Figure size 1440x504 with 1 Axes>"
      ]
     },
     "metadata": {
      "needs_background": "light"
     },
     "output_type": "display_data"
    }
   ],
   "source": [
    "fig = plt.figure(figsize=(20,7))\n",
    "loc = sns.countplot(x=\"Locality\",data=zomato_real, palette = \"Set1\")\n",
    "loc.set_xticklabels(loc.get_xticklabels(), rotation=90, ha=\"right\")\n",
    "plt.ylabel(\"Frequency\",size=15)\n",
    "plt.xlabel(\"Location\",size=18)\n",
    "loc\n",
    "plt.title('No. of restaurants in a Location',size = 20,pad=20 , color='b')"
   ]
  },
  {
   "cell_type": "markdown",
   "id": "de36c6cd",
   "metadata": {},
   "source": [
    "### Rating and Locality"
   ]
  },
  {
   "cell_type": "code",
   "execution_count": 26,
   "id": "f4bdd23f",
   "metadata": {},
   "outputs": [],
   "source": [
    "# pd.crosstab(z['Ratings_out_of_5'],z['Locality'])"
   ]
  },
  {
   "cell_type": "markdown",
   "id": "6e4a88b9",
   "metadata": {},
   "source": [
    "### Most Popular Restaurant type in Pune"
   ]
  },
  {
   "cell_type": "code",
   "execution_count": 59,
   "id": "a012f2e2",
   "metadata": {},
   "outputs": [
    {
     "data": {
      "text/plain": [
       "Quick Bites                5446\n",
       "Casual Dining              2262\n",
       "Takeaway, Delivery         1065\n",
       "Delivery                    905\n",
       "Café                        333\n",
       "                           ... \n",
       "Quick Bites, Food Court       1\n",
       "Café, Beverage Shop           1\n",
       "Food Truck, Quick Bites       1\n",
       "Club, Lounge                  1\n",
       "Dhaba, Bar                    1\n",
       "Name: Sponsored, Length: 81, dtype: int64"
      ]
     },
     "execution_count": 59,
     "metadata": {},
     "output_type": "execute_result"
    }
   ],
   "source": [
    "z['Sponsored'].value_counts()"
   ]
  },
  {
   "cell_type": "code",
   "execution_count": 28,
   "id": "2cbccebe",
   "metadata": {},
   "outputs": [
    {
     "data": {
      "text/plain": [
       "Text(0.5, 1.0, 'Most popular Restaurant types of Pune')"
      ]
     },
     "execution_count": 28,
     "metadata": {},
     "output_type": "execute_result"
    },
    {
     "data": {
      "image/png": "[encoded data removed]",
      "text/plain": [
       "<Figure size 720x504 with 1 Axes>"
      ]
     },
     "metadata": {
      "needs_background": "light"
     },
     "output_type": "display_data"
    }
   ],
   "source": [
    "plt.figure(figsize=(10,7))\n",
    "types=z['Sponsored'].value_counts()[:10]\n",
    "sns.barplot(types,types.index,palette='Set1')\n",
    "plt.xlabel('Count')\n",
    "plt.title(\"Most popular Restaurant types of Pune\" ,pad=20, fontsize=18)"
   ]
  },
  {
   "cell_type": "markdown",
   "id": "a6436b1d",
   "metadata": {},
   "source": [
    "### Types of Restaurants"
   ]
  },
  {
   "cell_type": "code",
   "execution_count": 60,
   "id": "ecdce748",
   "metadata": {},
   "outputs": [
    {
     "data": {
      "text/plain": [
       "Text(0.5, 1.0, 'Restaurant types')"
      ]
     },
     "execution_count": 60,
     "metadata": {},
     "output_type": "execute_result"
    },
    {
     "data": {
      "image/png": "[encoded data removed]",
      "text/plain": [
       "<Figure size 1224x360 with 1 Axes>"
      ]
     },
     "metadata": {
      "needs_background": "light"
     },
     "output_type": "display_data"
    }
   ],
   "source": [
    "fig = plt.figure(figsize=(17,5))\n",
    "rest = sns.countplot(x=\"Sponsored\",data=zomato_real, palette = \"Set1\")\n",
    "rest.set_xticklabels(rest.get_xticklabels(), rotation=90, ha=\"right\")\n",
    "plt.ylabel(\"Frequency\",size=15)\n",
    "plt.xlabel(\"Restaurant type\",size=15)\n",
    "rest \n",
    "plt.title('Restaurant types',fontsize = 20 ,pad=20)"
   ]
  },
  {
   "cell_type": "markdown",
   "id": "89d42cd3",
   "metadata": {},
   "source": [
    "### Most Popular Cuisines"
   ]
  },
  {
   "cell_type": "code",
   "execution_count": 61,
   "id": "be783bb3",
   "metadata": {},
   "outputs": [
    {
     "data": {
      "text/plain": [
       "Text(0.5, 1.0, 'Most popular Cuisines in Pune')"
      ]
     },
     "execution_count": 61,
     "metadata": {},
     "output_type": "execute_result"
    },
    {
     "data": {
      "image/png": "[encoded data removed]",
      "text/plain": [
       "<Figure size 720x504 with 1 Axes>"
      ]
     },
     "metadata": {
      "needs_background": "light"
     },
     "output_type": "display_data"
    }
   ],
   "source": [
    "plt.figure(figsize=(10,7))\n",
    "cuisines=z['Cuisines'].value_counts()[:10]\n",
    "sns.barplot(cuisines,cuisines.index)\n",
    "plt.xlabel('Count')\n",
    "plt.title(\"Most popular Cuisines in Pune\" ,pad=20, fontsize=18)"
   ]
  },
  {
   "cell_type": "markdown",
   "id": "56ebb2be",
   "metadata": {},
   "source": [
    "* We can observe that North Indian and Chinese food are the most popular amongst Punekars *"
   ]
  },
  {
   "cell_type": "code",
   "execution_count": 94,
   "id": "dc5f8367",
   "metadata": {},
   "outputs": [],
   "source": [
    "# zomato_real.columns.to_list()"
   ]
  },
  {
   "cell_type": "markdown",
   "id": "d5ffe742",
   "metadata": {},
   "source": [
    "### Cost For 2 people"
   ]
  },
  {
   "cell_type": "code",
   "execution_count": 97,
   "id": "617a9078",
   "metadata": {},
   "outputs": [],
   "source": [
    "# zomato_real['Charges_for_two'] = zomato_real['Charges_for_two'].apply(lambda x: x.replace('₹','')) \n",
    "# zomato_real['Charges_for_two'] = zomato_real['Charges_for_two'].apply(lambda x: x.replace(',',''))\n",
    "# zomato_real['Charges_for_two'] = zomato_real['Charges_for_two'].apply(lambda x: x.replace('Not Present','0'))"
   ]
  },
  {
   "cell_type": "code",
   "execution_count": 98,
   "id": "f316c23a",
   "metadata": {},
   "outputs": [
    {
     "data": {
      "text/plain": [
       "array([  1400,   1500,   2500,   1700,    150,   1300,   1000,    250,\n",
       "         1800,   1600,    700,    900,   2000,    600,   1200,    550,\n",
       "         2200,   1100,    500,    850,    300,   2100,    800,    400,\n",
       "          450,    650,   1250,    950,    200,   3200,    350,    100,\n",
       "            0,   1900,   3000,    750,   2600,   2700,   1050,   1350,\n",
       "         4200,   4000, 200250,   2400,   1750,   3100,    420,   1150,\n",
       "         1650,   2900,    999,   1950,   4500,    280,     50,   1550,\n",
       "          160,    110,    220,    120,     15,   2800,   3500])"
      ]
     },
     "execution_count": 98,
     "metadata": {},
     "output_type": "execute_result"
    }
   ],
   "source": [
    "zomato_real['Charges_for_two'].unique()"
   ]
  },
  {
   "cell_type": "code",
   "execution_count": 34,
   "id": "86de572c",
   "metadata": {},
   "outputs": [],
   "source": [
    "zomato_real['Charges_for_two']=zomato_real['Charges_for_two'].astype(int)"
   ]
  },
  {
   "cell_type": "code",
   "execution_count": 35,
   "id": "ae71df93",
   "metadata": {},
   "outputs": [
    {
     "data": {
      "text/plain": [
       "<AxesSubplot:xlabel='Charges_for_two', ylabel='Density'>"
      ]
     },
     "execution_count": 35,
     "metadata": {},
     "output_type": "execute_result"
    },
    {
     "data": {
      "image/png": "[encoded data removed]",
      "text/plain": [
       "<Figure size 720x504 with 1 Axes>"
      ]
     },
     "metadata": {
      "needs_background": "light"
     },
     "output_type": "display_data"
    }
   ],
   "source": [
    "plt.figure(figsize=(10,7))\n",
    "sns.distplot(zomato_real['Charges_for_two'])"
   ]
  },
  {
   "cell_type": "code",
   "execution_count": 64,
   "id": "bc9352f7",
   "metadata": {},
   "outputs": [
    {
     "data": {
      "text/plain": [
       "<AxesSubplot:xlabel='Ratings_out_of_5', ylabel='Charges_for_two'>"
      ]
     },
     "execution_count": 64,
     "metadata": {},
     "output_type": "execute_result"
    },
    {
     "data": {
      "image/png": "[encoded data removed]",
      "text/plain": [
       "<Figure size 720x504 with 1 Axes>"
      ]
     },
     "metadata": {
      "needs_background": "light"
     },
     "output_type": "display_data"
    }
   ],
   "source": [
    "plt.figure(figsize=(10,7))\n"
   ]
  },
  {
   "cell_type": "markdown",
   "id": "27e81fa3",
   "metadata": {},
   "source": [
    "### Top 10 Expensive Restaurants in Pune"
   ]
  },
  {
   "cell_type": "code",
   "execution_count": 80,
   "id": "6a90ab37",
   "metadata": {},
   "outputs": [],
   "source": [
    "# zomato_real['Charges_for_two'].max()\n",
    "\n",
    "data =zomato_real.copy()\n",
    "data.set_index('Restaurant_Name',inplace=True)"
   ]
  },
  {
   "cell_type": "code",
   "execution_count": 88,
   "id": "4792441e",
   "metadata": {},
   "outputs": [
    {
     "data": {
      "application/vnd.plotly.v1+json": {
       "config": {
        "linkText": "Export to plot.ly",
        "plotlyServerURL": "https://plot.ly",
        "showLink": false
       },
       "data": [
        {
         "name": "Priority",
         "type": "bar",
         "x": [
          "Misal Darbar",
          "Harajuku - The O Hotel",
          "Mix@36 - The Westin",
          "Kangan - The Westin",
          "The Market - The Westin",
          "Coriander Kitchen - Conrad Pune",
          "Vandaag - Vivanta Pune",
          "The House Of Medici - The Westin",
          "Alto Vino - JW Marriott Pune",
          "Feast - Sheraton Grand"
         ],
         "y": [
          200250,
          4500,
          4200,
          4000,
          3500,
          3200,
          3100,
          3000,
          3000,
          3000
         ]
        }
       ],
       "layout": {
        "template": {
         "data": {
          "bar": [
           {
            "error_x": {
             "color": "#2a3f5f"
            },
            "error_y": {
             "color": "#2a3f5f"
            },
            "marker": {
             "line": {
              "color": "#E5ECF6",
              "width": 0.5
             },
             "pattern": {
              "fillmode": "overlay",
              "size": 10,
              "solidity": 0.2
             }
            },
            "type": "bar"
           }
          ],
          "barpolar": [
           {
            "marker": {
             "line": {
              "color": "#E5ECF6",
              "width": 0.5
             },
             "pattern": {
              "fillmode": "overlay",
              "size": 10,
              "solidity": 0.2
             }
            },
            "type": "barpolar"
           }
          ],
          "carpet": [
           {
            "aaxis": {
             "endlinecolor": "#2a3f5f",
             "gridcolor": "white",
             "linecolor": "white",
             "minorgridcolor": "white",
             "startlinecolor": "#2a3f5f"
            },
            "baxis": {
             "endlinecolor": "#2a3f5f",
             "gridcolor": "white",
             "linecolor": "white",
             "minorgridcolor": "white",
             "startlinecolor": "#2a3f5f"
            },
            "type": "carpet"
           }
          ],
          "choropleth": [
           {
            "colorbar": {
             "outlinewidth": 0,
             "ticks": ""
            },
            "type": "choropleth"
           }
          ],
          "contour": [
           {
            "colorbar": {
             "outlinewidth": 0,
             "ticks": ""
            },
            "colorscale": [
             [
              0,
              "#0d0887"
             ],
             [
              0.1111111111111111,
              "#46039f"
             ],
             [
              0.2222222222222222,
              "#7201a8"
             ],
             [
              0.3333333333333333,
              "#9c179e"
             ],
             [
              0.4444444444444444,
              "#bd3786"
             ],
             [
              0.5555555555555556,
              "#d8576b"
             ],
             [
              0.6666666666666666,
              "#ed7953"
             ],
             [
              0.7777777777777778,
              "#fb9f3a"
             ],
             [
              0.8888888888888888,
              "#fdca26"
             ],
             [
              1,
              "#f0f921"
             ]
            ],
            "type": "contour"
           }
          ],
          "contourcarpet": [
           {
            "colorbar": {
             "outlinewidth": 0,
             "ticks": ""
            },
            "type": "contourcarpet"
           }
          ],
          "heatmap": [
           {
            "colorbar": {
             "outlinewidth": 0,
             "ticks": ""
            },
            "colorscale": [
             [
              0,
              "#0d0887"
             ],
             [
              0.1111111111111111,
              "#46039f"
             ],
             [
              0.2222222222222222,
              "#7201a8"
             ],
             [
              0.3333333333333333,
              "#9c179e"
             ],
             [
              0.4444444444444444,
              "#bd3786"
             ],
             [
              0.5555555555555556,
              "#d8576b"
             ],
             [
              0.6666666666666666,
              "#ed7953"
             ],
             [
              0.7777777777777778,
              "#fb9f3a"
             ],
             [
              0.8888888888888888,
              "#fdca26"
             ],
             [
              1,
              "#f0f921"
             ]
            ],
            "type": "heatmap"
           }
          ],
          "heatmapgl": [
           {
            "colorbar": {
             "outlinewidth": 0,
             "ticks": ""
            },
            "colorscale": [
             [
              0,
              "#0d0887"
             ],
             [
              0.1111111111111111,
              "#46039f"
             ],
             [
              0.2222222222222222,
              "#7201a8"
             ],
             [
              0.3333333333333333,
              "#9c179e"
             ],
             [
              0.4444444444444444,
              "#bd3786"
             ],
             [
              0.5555555555555556,
              "#d8576b"
             ],
             [
              0.6666666666666666,
              "#ed7953"
             ],
             [
              0.7777777777777778,
              "#fb9f3a"
             ],
             [
              0.8888888888888888,
              "#fdca26"
             ],
             [
              1,
              "#f0f921"
             ]
            ],
            "type": "heatmapgl"
           }
          ],
          "histogram": [
           {
            "marker": {
             "pattern": {
              "fillmode": "overlay",
              "size": 10,
              "solidity": 0.2
             }
            },
            "type": "histogram"
           }
          ],
          "histogram2d": [
           {
            "colorbar": {
             "outlinewidth": 0,
             "ticks": ""
            },
            "colorscale": [
             [
              0,
              "#0d0887"
             ],
             [
              0.1111111111111111,
              "#46039f"
             ],
             [
              0.2222222222222222,
              "#7201a8"
             ],
             [
              0.3333333333333333,
              "#9c179e"
             ],
             [
              0.4444444444444444,
              "#bd3786"
             ],
             [
              0.5555555555555556,
              "#d8576b"
             ],
             [
              0.6666666666666666,
              "#ed7953"
             ],
             [
              0.7777777777777778,
              "#fb9f3a"
             ],
             [
              0.8888888888888888,
              "#fdca26"
             ],
             [
              1,
              "#f0f921"
             ]
            ],
            "type": "histogram2d"
           }
          ],
          "histogram2dcontour": [
           {
            "colorbar": {
             "outlinewidth": 0,
             "ticks": ""
            },
            "colorscale": [
             [
              0,
              "#0d0887"
             ],
             [
              0.1111111111111111,
              "#46039f"
             ],
             [
              0.2222222222222222,
              "#7201a8"
             ],
             [
              0.3333333333333333,
              "#9c179e"
             ],
             [
              0.4444444444444444,
              "#bd3786"
             ],
             [
              0.5555555555555556,
              "#d8576b"
             ],
             [
              0.6666666666666666,
              "#ed7953"
             ],
             [
              0.7777777777777778,
              "#fb9f3a"
             ],
             [
              0.8888888888888888,
              "#fdca26"
             ],
             [
              1,
              "#f0f921"
             ]
            ],
            "type": "histogram2dcontour"
           }
          ],
          "mesh3d": [
           {
            "colorbar": {
             "outlinewidth": 0,
             "ticks": ""
            },
            "type": "mesh3d"
           }
          ],
          "parcoords": [
           {
            "line": {
             "colorbar": {
              "outlinewidth": 0,
              "ticks": ""
             }
            },
            "type": "parcoords"
           }
          ],
          "pie": [
           {
            "automargin": true,
            "type": "pie"
           }
          ],
          "scatter": [
           {
            "marker": {
             "colorbar": {
              "outlinewidth": 0,
              "ticks": ""
             }
            },
            "type": "scatter"
           }
          ],
          "scatter3d": [
           {
            "line": {
             "colorbar": {
              "outlinewidth": 0,
              "ticks": ""
             }
            },
            "marker": {
             "colorbar": {
              "outlinewidth": 0,
              "ticks": ""
             }
            },
            "type": "scatter3d"
           }
          ],
          "scattercarpet": [
           {
            "marker": {
             "colorbar": {
              "outlinewidth": 0,
              "ticks": ""
             }
            },
            "type": "scattercarpet"
           }
          ],
          "scattergeo": [
           {
            "marker": {
             "colorbar": {
              "outlinewidth": 0,
              "ticks": ""
             }
            },
            "type": "scattergeo"
           }
          ],
          "scattergl": [
           {
            "marker": {
             "colorbar": {
              "outlinewidth": 0,
              "ticks": ""
             }
            },
            "type": "scattergl"
           }
          ],
          "scattermapbox": [
           {
            "marker": {
             "colorbar": {
              "outlinewidth": 0,
              "ticks": ""
             }
            },
            "type": "scattermapbox"
           }
          ],
          "scatterpolar": [
           {
            "marker": {
             "colorbar": {
              "outlinewidth": 0,
              "ticks": ""
             }
            },
            "type": "scatterpolar"
           }
          ],
          "scatterpolargl": [
           {
            "marker": {
             "colorbar": {
              "outlinewidth": 0,
              "ticks": ""
             }
            },
            "type": "scatterpolargl"
           }
          ],
          "scatterternary": [
           {
            "marker": {
             "colorbar": {
              "outlinewidth": 0,
              "ticks": ""
             }
            },
            "type": "scatterternary"
           }
          ],
          "surface": [
           {
            "colorbar": {
             "outlinewidth": 0,
             "ticks": ""
            },
            "colorscale": [
             [
              0,
              "#0d0887"
             ],
             [
              0.1111111111111111,
              "#46039f"
             ],
             [
              0.2222222222222222,
              "#7201a8"
             ],
             [
              0.3333333333333333,
              "#9c179e"
             ],
             [
              0.4444444444444444,
              "#bd3786"
             ],
             [
              0.5555555555555556,
              "#d8576b"
             ],
             [
              0.6666666666666666,
              "#ed7953"
             ],
             [
              0.7777777777777778,
              "#fb9f3a"
             ],
             [
              0.8888888888888888,
              "#fdca26"
             ],
             [
              1,
              "#f0f921"
             ]
            ],
            "type": "surface"
           }
          ],
          "table": [
           {
            "cells": {
             "fill": {
              "color": "#EBF0F8"
             },
             "line": {
              "color": "white"
             }
            },
            "header": {
             "fill": {
              "color": "#C8D4E3"
             },
             "line": {
              "color": "white"
             }
            },
            "type": "table"
           }
          ]
         },
         "layout": {
          "annotationdefaults": {
           "arrowcolor": "#2a3f5f",
           "arrowhead": 0,
           "arrowwidth": 1
          },
          "autotypenumbers": "strict",
          "coloraxis": {
           "colorbar": {
            "outlinewidth": 0,
            "ticks": ""
           }
          },
          "colorscale": {
           "diverging": [
            [
             0,
             "#8e0152"
            ],
            [
             0.1,
             "#c51b7d"
            ],
            [
             0.2,
             "#de77ae"
            ],
            [
             0.3,
             "#f1b6da"
            ],
            [
             0.4,
             "#fde0ef"
            ],
            [
             0.5,
             "#f7f7f7"
            ],
            [
             0.6,
             "#e6f5d0"
            ],
            [
             0.7,
             "#b8e186"
            ],
            [
             0.8,
             "#7fbc41"
            ],
            [
             0.9,
             "#4d9221"
            ],
            [
             1,
             "#276419"
            ]
           ],
           "sequential": [
            [
             0,
             "#0d0887"
            ],
            [
             0.1111111111111111,
             "#46039f"
            ],
            [
             0.2222222222222222,
             "#7201a8"
            ],
            [
             0.3333333333333333,
             "#9c179e"
            ],
            [
             0.4444444444444444,
             "#bd3786"
            ],
            [
             0.5555555555555556,
             "#d8576b"
            ],
            [
             0.6666666666666666,
             "#ed7953"
            ],
            [
             0.7777777777777778,
             "#fb9f3a"
            ],
            [
             0.8888888888888888,
             "#fdca26"
            ],
            [
             1,
             "#f0f921"
            ]
           ],
           "sequentialminus": [
            [
             0,
             "#0d0887"
            ],
            [
             0.1111111111111111,
             "#46039f"
            ],
            [
             0.2222222222222222,
             "#7201a8"
            ],
            [
             0.3333333333333333,
             "#9c179e"
            ],
            [
             0.4444444444444444,
             "#bd3786"
            ],
            [
             0.5555555555555556,
             "#d8576b"
            ],
            [
             0.6666666666666666,
             "#ed7953"
            ],
            [
             0.7777777777777778,
             "#fb9f3a"
            ],
            [
             0.8888888888888888,
             "#fdca26"
            ],
            [
             1,
             "#f0f921"
            ]
           ]
          },
          "colorway": [
           "#636efa",
           "#EF553B",
           "#00cc96",
           "#ab63fa",
           "#FFA15A",
           "#19d3f3",
           "#FF6692",
           "#B6E880",
           "#FF97FF",
           "#FECB52"
          ],
          "font": {
           "color": "#2a3f5f"
          },
          "geo": {
           "bgcolor": "white",
           "lakecolor": "white",
           "landcolor": "#E5ECF6",
           "showlakes": true,
           "showland": true,
           "subunitcolor": "white"
          },
          "hoverlabel": {
           "align": "left"
          },
          "hovermode": "closest",
          "mapbox": {
           "style": "light"
          },
          "paper_bgcolor": "white",
          "plot_bgcolor": "#E5ECF6",
          "polar": {
           "angularaxis": {
            "gridcolor": "white",
            "linecolor": "white",
            "ticks": ""
           },
           "bgcolor": "#E5ECF6",
           "radialaxis": {
            "gridcolor": "white",
            "linecolor": "white",
            "ticks": ""
           }
          },
          "scene": {
           "xaxis": {
            "backgroundcolor": "#E5ECF6",
            "gridcolor": "white",
            "gridwidth": 2,
            "linecolor": "white",
            "showbackground": true,
            "ticks": "",
            "zerolinecolor": "white"
           },
           "yaxis": {
            "backgroundcolor": "#E5ECF6",
            "gridcolor": "white",
            "gridwidth": 2,
            "linecolor": "white",
            "showbackground": true,
            "ticks": "",
            "zerolinecolor": "white"
           },
           "zaxis": {
            "backgroundcolor": "#E5ECF6",
            "gridcolor": "white",
            "gridwidth": 2,
            "linecolor": "white",
            "showbackground": true,
            "ticks": "",
            "zerolinecolor": "white"
           }
          },
          "shapedefaults": {
           "line": {
            "color": "#2a3f5f"
           }
          },
          "ternary": {
           "aaxis": {
            "gridcolor": "white",
            "linecolor": "white",
            "ticks": ""
           },
           "baxis": {
            "gridcolor": "white",
            "linecolor": "white",
            "ticks": ""
           },
           "bgcolor": "#E5ECF6",
           "caxis": {
            "gridcolor": "white",
            "linecolor": "white",
            "ticks": ""
           }
          },
          "title": {
           "x": 0.05
          },
          "xaxis": {
           "automargin": true,
           "gridcolor": "white",
           "linecolor": "white",
           "ticks": "",
           "title": {
            "standoff": 15
           },
           "zerolinecolor": "white",
           "zerolinewidth": 2
          },
          "yaxis": {
           "automargin": true,
           "gridcolor": "white",
           "linecolor": "white",
           "ticks": "",
           "title": {
            "standoff": 15
           },
           "zerolinecolor": "white",
           "zerolinewidth": 2
          }
         }
        }
       }
      },
      "text/html": [
       "<div>                            <div id=\"58216a6e-0577-4354-9a99-fb5bbd2d5c01\" class=\"plotly-graph-div\" style=\"height:525px; width:100%;\"></div>            <script type=\"text/javascript\">                require([\"plotly\"], function(Plotly) {                    window.PLOTLYENV=window.PLOTLYENV || {};                                    if (document.getElementById(\"58216a6e-0577-4354-9a99-fb5bbd2d5c01\")) {                    Plotly.newPlot(                        \"58216a6e-0577-4354-9a99-fb5bbd2d5c01\",                        [{\"name\":\"Priority\",\"type\":\"bar\",\"x\":[\"Misal Darbar\",\"Harajuku - The O Hotel\",\"Mix@36 - The Westin\",\"Kangan - The Westin\",\"The Market - The Westin\",\"Coriander Kitchen - Conrad Pune\",\"Vandaag - Vivanta Pune\",\"The House Of Medici - The Westin\",\"Alto Vino - JW Marriott Pune\",\"Feast - Sheraton Grand\"],\"y\":[200250,4500,4200,4000,3500,3200,3100,3000,3000,3000]}],                        {\"template\":{\"data\":{\"bar\":[{\"error_x\":{\"color\":\"#2a3f5f\"},\"error_y\":{\"color\":\"#2a3f5f\"},\"marker\":{\"line\":{\"color\":\"#E5ECF6\",\"width\":0.5},\"pattern\":{\"fillmode\":\"overlay\",\"size\":10,\"solidity\":0.2}},\"type\":\"bar\"}],\"barpolar\":[{\"marker\":{\"line\":{\"color\":\"#E5ECF6\",\"width\":0.5},\"pattern\":{\"fillmode\":\"overlay\",\"size\":10,\"solidity\":0.2}},\"type\":\"barpolar\"}],\"carpet\":[{\"aaxis\":{\"endlinecolor\":\"#2a3f5f\",\"gridcolor\":\"white\",\"linecolor\":\"white\",\"minorgridcolor\":\"white\",\"startlinecolor\":\"#2a3f5f\"},\"baxis\":{\"endlinecolor\":\"#2a3f5f\",\"gridcolor\":\"white\",\"linecolor\":\"white\",\"minorgridcolor\":\"white\",\"startlinecolor\":\"#2a3f5f\"},\"type\":\"carpet\"}],\"choropleth\":[{\"colorbar\":{\"outlinewidth\":0,\"ticks\":\"\"},\"type\":\"choropleth\"}],\"contour\":[{\"colorbar\":{\"outlinewidth\":0,\"ticks\":\"\"},\"colorscale\":[[0.0,\"#0d0887\"],[0.1111111111111111,\"#46039f\"],[0.2222222222222222,\"#7201a8\"],[0.3333333333333333,\"#9c179e\"],[0.4444444444444444,\"#bd3786\"],[0.5555555555555556,\"#d8576b\"],[0.6666666666666666,\"#ed7953\"],[0.7777777777777778,\"#fb9f3a\"],[0.8888888888888888,\"#fdca26\"],[1.0,\"#f0f921\"]],\"type\":\"contour\"}],\"contourcarpet\":[{\"colorbar\":{\"outlinewidth\":0,\"ticks\":\"\"},\"type\":\"contourcarpet\"}],\"heatmap\":[{\"colorbar\":{\"outlinewidth\":0,\"ticks\":\"\"},\"colorscale\":[[0.0,\"#0d0887\"],[0.1111111111111111,\"#46039f\"],[0.2222222222222222,\"#7201a8\"],[0.3333333333333333,\"#9c179e\"],[0.4444444444444444,\"#bd3786\"],[0.5555555555555556,\"#d8576b\"],[0.6666666666666666,\"#ed7953\"],[0.7777777777777778,\"#fb9f3a\"],[0.8888888888888888,\"#fdca26\"],[1.0,\"#f0f921\"]],\"type\":\"heatmap\"}],\"heatmapgl\":[{\"colorbar\":{\"outlinewidth\":0,\"ticks\":\"\"},\"colorscale\":[[0.0,\"#0d0887\"],[0.1111111111111111,\"#46039f\"],[0.2222222222222222,\"#7201a8\"],[0.3333333333333333,\"#9c179e\"],[0.4444444444444444,\"#bd3786\"],[0.5555555555555556,\"#d8576b\"],[0.6666666666666666,\"#ed7953\"],[0.7777777777777778,\"#fb9f3a\"],[0.8888888888888888,\"#fdca26\"],[1.0,\"#f0f921\"]],\"type\":\"heatmapgl\"}],\"histogram\":[{\"marker\":{\"pattern\":{\"fillmode\":\"overlay\",\"size\":10,\"solidity\":0.2}},\"type\":\"histogram\"}],\"histogram2d\":[{\"colorbar\":{\"outlinewidth\":0,\"ticks\":\"\"},\"colorscale\":[[0.0,\"#0d0887\"],[0.1111111111111111,\"#46039f\"],[0.2222222222222222,\"#7201a8\"],[0.3333333333333333,\"#9c179e\"],[0.4444444444444444,\"#bd3786\"],[0.5555555555555556,\"#d8576b\"],[0.6666666666666666,\"#ed7953\"],[0.7777777777777778,\"#fb9f3a\"],[0.8888888888888888,\"#fdca26\"],[1.0,\"#f0f921\"]],\"type\":\"histogram2d\"}],\"histogram2dcontour\":[{\"colorbar\":{\"outlinewidth\":0,\"ticks\":\"\"},\"colorscale\":[[0.0,\"#0d0887\"],[0.1111111111111111,\"#46039f\"],[0.2222222222222222,\"#7201a8\"],[0.3333333333333333,\"#9c179e\"],[0.4444444444444444,\"#bd3786\"],[0.5555555555555556,\"#d8576b\"],[0.6666666666666666,\"#ed7953\"],[0.7777777777777778,\"#fb9f3a\"],[0.8888888888888888,\"#fdca26\"],[1.0,\"#f0f921\"]],\"type\":\"histogram2dcontour\"}],\"mesh3d\":[{\"colorbar\":{\"outlinewidth\":0,\"ticks\":\"\"},\"type\":\"mesh3d\"}],\"parcoords\":[{\"line\":{\"colorbar\":{\"outlinewidth\":0,\"ticks\":\"\"}},\"type\":\"parcoords\"}],\"pie\":[{\"automargin\":true,\"type\":\"pie\"}],\"scatter\":[{\"marker\":{\"colorbar\":{\"outlinewidth\":0,\"ticks\":\"\"}},\"type\":\"scatter\"}],\"scatter3d\":[{\"line\":{\"colorbar\":{\"outlinewidth\":0,\"ticks\":\"\"}},\"marker\":{\"colorbar\":{\"outlinewidth\":0,\"ticks\":\"\"}},\"type\":\"scatter3d\"}],\"scattercarpet\":[{\"marker\":{\"colorbar\":{\"outlinewidth\":0,\"ticks\":\"\"}},\"type\":\"scattercarpet\"}],\"scattergeo\":[{\"marker\":{\"colorbar\":{\"outlinewidth\":0,\"ticks\":\"\"}},\"type\":\"scattergeo\"}],\"scattergl\":[{\"marker\":{\"colorbar\":{\"outlinewidth\":0,\"ticks\":\"\"}},\"type\":\"scattergl\"}],\"scattermapbox\":[{\"marker\":{\"colorbar\":{\"outlinewidth\":0,\"ticks\":\"\"}},\"type\":\"scattermapbox\"}],\"scatterpolar\":[{\"marker\":{\"colorbar\":{\"outlinewidth\":0,\"ticks\":\"\"}},\"type\":\"scatterpolar\"}],\"scatterpolargl\":[{\"marker\":{\"colorbar\":{\"outlinewidth\":0,\"ticks\":\"\"}},\"type\":\"scatterpolargl\"}],\"scatterternary\":[{\"marker\":{\"colorbar\":{\"outlinewidth\":0,\"ticks\":\"\"}},\"type\":\"scatterternary\"}],\"surface\":[{\"colorbar\":{\"outlinewidth\":0,\"ticks\":\"\"},\"colorscale\":[[0.0,\"#0d0887\"],[0.1111111111111111,\"#46039f\"],[0.2222222222222222,\"#7201a8\"],[0.3333333333333333,\"#9c179e\"],[0.4444444444444444,\"#bd3786\"],[0.5555555555555556,\"#d8576b\"],[0.6666666666666666,\"#ed7953\"],[0.7777777777777778,\"#fb9f3a\"],[0.8888888888888888,\"#fdca26\"],[1.0,\"#f0f921\"]],\"type\":\"surface\"}],\"table\":[{\"cells\":{\"fill\":{\"color\":\"#EBF0F8\"},\"line\":{\"color\":\"white\"}},\"header\":{\"fill\":{\"color\":\"#C8D4E3\"},\"line\":{\"color\":\"white\"}},\"type\":\"table\"}]},\"layout\":{\"annotationdefaults\":{\"arrowcolor\":\"#2a3f5f\",\"arrowhead\":0,\"arrowwidth\":1},\"autotypenumbers\":\"strict\",\"coloraxis\":{\"colorbar\":{\"outlinewidth\":0,\"ticks\":\"\"}},\"colorscale\":{\"diverging\":[[0,\"#8e0152\"],[0.1,\"#c51b7d\"],[0.2,\"#de77ae\"],[0.3,\"#f1b6da\"],[0.4,\"#fde0ef\"],[0.5,\"#f7f7f7\"],[0.6,\"#e6f5d0\"],[0.7,\"#b8e186\"],[0.8,\"#7fbc41\"],[0.9,\"#4d9221\"],[1,\"#276419\"]],\"sequential\":[[0.0,\"#0d0887\"],[0.1111111111111111,\"#46039f\"],[0.2222222222222222,\"#7201a8\"],[0.3333333333333333,\"#9c179e\"],[0.4444444444444444,\"#bd3786\"],[0.5555555555555556,\"#d8576b\"],[0.6666666666666666,\"#ed7953\"],[0.7777777777777778,\"#fb9f3a\"],[0.8888888888888888,\"#fdca26\"],[1.0,\"#f0f921\"]],\"sequentialminus\":[[0.0,\"#0d0887\"],[0.1111111111111111,\"#46039f\"],[0.2222222222222222,\"#7201a8\"],[0.3333333333333333,\"#9c179e\"],[0.4444444444444444,\"#bd3786\"],[0.5555555555555556,\"#d8576b\"],[0.6666666666666666,\"#ed7953\"],[0.7777777777777778,\"#fb9f3a\"],[0.8888888888888888,\"#fdca26\"],[1.0,\"#f0f921\"]]},\"colorway\":[\"#636efa\",\"#EF553B\",\"#00cc96\",\"#ab63fa\",\"#FFA15A\",\"#19d3f3\",\"#FF6692\",\"#B6E880\",\"#FF97FF\",\"#FECB52\"],\"font\":{\"color\":\"#2a3f5f\"},\"geo\":{\"bgcolor\":\"white\",\"lakecolor\":\"white\",\"landcolor\":\"#E5ECF6\",\"showlakes\":true,\"showland\":true,\"subunitcolor\":\"white\"},\"hoverlabel\":{\"align\":\"left\"},\"hovermode\":\"closest\",\"mapbox\":{\"style\":\"light\"},\"paper_bgcolor\":\"white\",\"plot_bgcolor\":\"#E5ECF6\",\"polar\":{\"angularaxis\":{\"gridcolor\":\"white\",\"linecolor\":\"white\",\"ticks\":\"\"},\"bgcolor\":\"#E5ECF6\",\"radialaxis\":{\"gridcolor\":\"white\",\"linecolor\":\"white\",\"ticks\":\"\"}},\"scene\":{\"xaxis\":{\"backgroundcolor\":\"#E5ECF6\",\"gridcolor\":\"white\",\"gridwidth\":2,\"linecolor\":\"white\",\"showbackground\":true,\"ticks\":\"\",\"zerolinecolor\":\"white\"},\"yaxis\":{\"backgroundcolor\":\"#E5ECF6\",\"gridcolor\":\"white\",\"gridwidth\":2,\"linecolor\":\"white\",\"showbackground\":true,\"ticks\":\"\",\"zerolinecolor\":\"white\"},\"zaxis\":{\"backgroundcolor\":\"#E5ECF6\",\"gridcolor\":\"white\",\"gridwidth\":2,\"linecolor\":\"white\",\"showbackground\":true,\"ticks\":\"\",\"zerolinecolor\":\"white\"}},\"shapedefaults\":{\"line\":{\"color\":\"#2a3f5f\"}},\"ternary\":{\"aaxis\":{\"gridcolor\":\"white\",\"linecolor\":\"white\",\"ticks\":\"\"},\"baxis\":{\"gridcolor\":\"white\",\"linecolor\":\"white\",\"ticks\":\"\"},\"bgcolor\":\"#E5ECF6\",\"caxis\":{\"gridcolor\":\"white\",\"linecolor\":\"white\",\"ticks\":\"\"}},\"title\":{\"x\":0.05},\"xaxis\":{\"automargin\":true,\"gridcolor\":\"white\",\"linecolor\":\"white\",\"ticks\":\"\",\"title\":{\"standoff\":15},\"zerolinecolor\":\"white\",\"zerolinewidth\":2},\"yaxis\":{\"automargin\":true,\"gridcolor\":\"white\",\"linecolor\":\"white\",\"ticks\":\"\",\"title\":{\"standoff\":15},\"zerolinecolor\":\"white\",\"zerolinewidth\":2}}}},                        {\"responsive\": true}                    ).then(function(){\n",
       "                            \n",
       "var gd = document.getElementById('58216a6e-0577-4354-9a99-fb5bbd2d5c01');\n",
       "var x = new MutationObserver(function (mutations, observer) {{\n",
       "        var display = window.getComputedStyle(gd).display;\n",
       "        if (!display || display === 'none') {{\n",
       "            console.log([gd, 'removed!']);\n",
       "            Plotly.purge(gd);\n",
       "            observer.disconnect();\n",
       "        }}\n",
       "}});\n",
       "\n",
       "// Listen for the removal of the full notebook cells\n",
       "var notebookContainer = gd.closest('#notebook-container');\n",
       "if (notebookContainer) {{\n",
       "    x.observe(notebookContainer, {childList: true});\n",
       "}}\n",
       "\n",
       "// Listen for the clearing of the current output cell\n",
       "var outputEl = gd.closest('.output');\n",
       "if (outputEl) {{\n",
       "    x.observe(outputEl, {childList: true});\n",
       "}}\n",
       "\n",
       "                        })                };                });            </script>        </div>"
      ]
     },
     "metadata": {},
     "output_type": "display_data"
    }
   ],
   "source": [
    "# plt.figure(figsize=(10,7))\n",
    "# data['Charges_for_two'].nlargest(10).plot.bar()\n",
    "\n",
    "trace1 = go.Bar( \n",
    "        x = data['Charges_for_two'].nlargest(10).index,\n",
    "        y = data['Charges_for_two'].nlargest(10),\n",
    "        name= 'Priority')\n",
    "iplot([trace1])"
   ]
  },
  {
   "cell_type": "markdown",
   "id": "a4e82353",
   "metadata": {},
   "source": [
    "### Most Expensive Cuisines involved in expensive restaurants"
   ]
  },
  {
   "cell_type": "code",
   "execution_count": 77,
   "id": "2b721664",
   "metadata": {},
   "outputs": [
    {
     "data": {
      "text/html": [
       "<div>\n",
       "<style scoped>\n",
       "    .dataframe tbody tr th:only-of-type {\n",
       "        vertical-align: middle;\n",
       "    }\n",
       "\n",
       "    .dataframe tbody tr th {\n",
       "        vertical-align: top;\n",
       "    }\n",
       "\n",
       "    .dataframe thead th {\n",
       "        text-align: right;\n",
       "    }\n",
       "</style>\n",
       "<table border=\"1\" class=\"dataframe\">\n",
       "  <thead>\n",
       "    <tr style=\"text-align: right;\">\n",
       "      <th></th>\n",
       "      <th>Restaurant_Name</th>\n",
       "      <th>Cuisines</th>\n",
       "    </tr>\n",
       "  </thead>\n",
       "  <tbody>\n",
       "    <tr>\n",
       "      <th>188</th>\n",
       "      <td>Coriander Kitchen - Conrad Pune</td>\n",
       "      <td>North Indian, Asian, Mediterranean</td>\n",
       "    </tr>\n",
       "    <tr>\n",
       "      <th>270</th>\n",
       "      <td>The House Of Medici - The Westin</td>\n",
       "      <td>Asian, Continental</td>\n",
       "    </tr>\n",
       "    <tr>\n",
       "      <th>331</th>\n",
       "      <td>Alto Vino - JW Marriott Pune</td>\n",
       "      <td>Italian, Salad</td>\n",
       "    </tr>\n",
       "    <tr>\n",
       "      <th>421</th>\n",
       "      <td>Feast - Sheraton Grand</td>\n",
       "      <td>North Indian, Asian, European</td>\n",
       "    </tr>\n",
       "    <tr>\n",
       "      <th>422</th>\n",
       "      <td>The Cafè - Hyatt Regency Pune</td>\n",
       "      <td>North Indian, Asian, Continental</td>\n",
       "    </tr>\n",
       "    <tr>\n",
       "      <th>451</th>\n",
       "      <td>Zeera - Conrad Pune</td>\n",
       "      <td>North Indian</td>\n",
       "    </tr>\n",
       "    <tr>\n",
       "      <th>585</th>\n",
       "      <td>Baan Tao - Hyatt Pune</td>\n",
       "      <td>Chinese, Thai, Vietnamese, Malaysian, Asian, S...</td>\n",
       "    </tr>\n",
       "    <tr>\n",
       "      <th>649</th>\n",
       "      <td>Oak Lounge - Marriott Suites Pune</td>\n",
       "      <td>Finger Food</td>\n",
       "    </tr>\n",
       "    <tr>\n",
       "      <th>842</th>\n",
       "      <td>Koji - Conrad Pune</td>\n",
       "      <td>Chinese, Japanese, Thai</td>\n",
       "    </tr>\n",
       "    <tr>\n",
       "      <th>981</th>\n",
       "      <td>Mix@36 - The Westin</td>\n",
       "      <td>Finger Food, Asian, Continental, North Indian</td>\n",
       "    </tr>\n",
       "    <tr>\n",
       "      <th>1090</th>\n",
       "      <td>Kangan - The Westin</td>\n",
       "      <td>Mughlai, North Indian</td>\n",
       "    </tr>\n",
       "    <tr>\n",
       "      <th>1390</th>\n",
       "      <td>Misal Darbar</td>\n",
       "      <td>Street Food</td>\n",
       "    </tr>\n",
       "    <tr>\n",
       "      <th>1734</th>\n",
       "      <td>Vandaag - Vivanta Pune</td>\n",
       "      <td>Continental, Finger Food</td>\n",
       "    </tr>\n",
       "    <tr>\n",
       "      <th>2188</th>\n",
       "      <td>Eighty Eight - Hyatt Pune</td>\n",
       "      <td>Continental, North Indian, Italian, Healthy Food</td>\n",
       "    </tr>\n",
       "    <tr>\n",
       "      <th>2557</th>\n",
       "      <td>Kabana - Conrad Pune</td>\n",
       "      <td>Continental, Italian</td>\n",
       "    </tr>\n",
       "    <tr>\n",
       "      <th>2571</th>\n",
       "      <td>Masu - Conrad Pune</td>\n",
       "      <td>Asian</td>\n",
       "    </tr>\n",
       "    <tr>\n",
       "      <th>3150</th>\n",
       "      <td>Kitsch - The O Hotel</td>\n",
       "      <td>Italian, European, North Indian</td>\n",
       "    </tr>\n",
       "    <tr>\n",
       "      <th>3153</th>\n",
       "      <td>Roof Top Bar - Sheraton Grand</td>\n",
       "      <td>North Indian, Seafood, Kebab</td>\n",
       "    </tr>\n",
       "    <tr>\n",
       "      <th>3883</th>\n",
       "      <td>Harajuku - The O Hotel</td>\n",
       "      <td>Japanese, Sushi</td>\n",
       "    </tr>\n",
       "    <tr>\n",
       "      <th>6626</th>\n",
       "      <td>Easy - Blue Diamond</td>\n",
       "      <td>Continental, Finger Food</td>\n",
       "    </tr>\n",
       "    <tr>\n",
       "      <th>11391</th>\n",
       "      <td>Connexions Lounge &amp; Bar - Holiday Inn Pune Hin...</td>\n",
       "      <td>Finger Food, Fast Food</td>\n",
       "    </tr>\n",
       "    <tr>\n",
       "      <th>12062</th>\n",
       "      <td>Marmalade</td>\n",
       "      <td>North Indian, Asian</td>\n",
       "    </tr>\n",
       "    <tr>\n",
       "      <th>12123</th>\n",
       "      <td>The Market - The Westin</td>\n",
       "      <td>North Indian, European, Asian</td>\n",
       "    </tr>\n",
       "  </tbody>\n",
       "</table>\n",
       "</div>"
      ],
      "text/plain": [
       "                                         Restaurant_Name  \\\n",
       "188                      Coriander Kitchen - Conrad Pune   \n",
       "270                     The House Of Medici - The Westin   \n",
       "331                         Alto Vino - JW Marriott Pune   \n",
       "421                               Feast - Sheraton Grand   \n",
       "422                        The Cafè - Hyatt Regency Pune   \n",
       "451                                  Zeera - Conrad Pune   \n",
       "585                                Baan Tao - Hyatt Pune   \n",
       "649                    Oak Lounge - Marriott Suites Pune   \n",
       "842                                   Koji - Conrad Pune   \n",
       "981                                  Mix@36 - The Westin   \n",
       "1090                                 Kangan - The Westin   \n",
       "1390                                        Misal Darbar   \n",
       "1734                              Vandaag - Vivanta Pune   \n",
       "2188                           Eighty Eight - Hyatt Pune   \n",
       "2557                                Kabana - Conrad Pune   \n",
       "2571                                  Masu - Conrad Pune   \n",
       "3150                                Kitsch - The O Hotel   \n",
       "3153                       Roof Top Bar - Sheraton Grand   \n",
       "3883                              Harajuku - The O Hotel   \n",
       "6626                                 Easy - Blue Diamond   \n",
       "11391  Connexions Lounge & Bar - Holiday Inn Pune Hin...   \n",
       "12062                                          Marmalade   \n",
       "12123                            The Market - The Westin   \n",
       "\n",
       "                                                Cuisines  \n",
       "188                   North Indian, Asian, Mediterranean  \n",
       "270                                   Asian, Continental  \n",
       "331                                       Italian, Salad  \n",
       "421                        North Indian, Asian, European  \n",
       "422                     North Indian, Asian, Continental  \n",
       "451                                         North Indian  \n",
       "585    Chinese, Thai, Vietnamese, Malaysian, Asian, S...  \n",
       "649                                          Finger Food  \n",
       "842                              Chinese, Japanese, Thai  \n",
       "981        Finger Food, Asian, Continental, North Indian  \n",
       "1090                               Mughlai, North Indian  \n",
       "1390                                         Street Food  \n",
       "1734                            Continental, Finger Food  \n",
       "2188    Continental, North Indian, Italian, Healthy Food  \n",
       "2557                                Continental, Italian  \n",
       "2571                                               Asian  \n",
       "3150                     Italian, European, North Indian  \n",
       "3153                        North Indian, Seafood, Kebab  \n",
       "3883                                     Japanese, Sushi  \n",
       "6626                            Continental, Finger Food  \n",
       "11391                             Finger Food, Fast Food  \n",
       "12062                                North Indian, Asian  \n",
       "12123                      North Indian, European, Asian  "
      ]
     },
     "execution_count": 77,
     "metadata": {},
     "output_type": "execute_result"
    }
   ],
   "source": [
    "zomato_real[zomato_real['Charges_for_two']>2500].loc[:,('Restaurant_Name','Cuisines')]"
   ]
  },
  {
   "cell_type": "markdown",
   "id": "447193c8",
   "metadata": {},
   "source": [
    "### Foodie areas in Pune"
   ]
  },
  {
   "cell_type": "code",
   "execution_count": 89,
   "id": "00027039",
   "metadata": {},
   "outputs": [
    {
     "data": {
      "text/plain": [
       "<AxesSubplot:xlabel='Locality'>"
      ]
     },
     "execution_count": 89,
     "metadata": {},
     "output_type": "execute_result"
    },
    {
     "data": {
      "image/png": "[encoded data removed]",
      "text/plain": [
       "<Figure size 720x504 with 1 Axes>"
      ]
     },
     "metadata": {
      "needs_background": "light"
     },
     "output_type": "display_data"
    }
   ],
   "source": [
    "plt.figure(figsize=(10,7))\n",
    "Restaurant_locations=z['Locality'].value_counts()[:20]\n",
    "sns.barplot(Restaurant_locations,Restaurant_locations.index)"
   ]
  },
  {
   "cell_type": "code",
   "execution_count": 91,
   "id": "2f9a0f0b",
   "metadata": {},
   "outputs": [
    {
     "data": {
      "application/vnd.plotly.v1+json": {
       "config": {
        "linkText": "Export to plot.ly",
        "plotlyServerURL": "https://plot.ly",
        "showLink": false
       },
       "data": [
        {
         "name": "Priority",
         "type": "bar",
         "x": [
          "Hadapsar",
          "Kothrud",
          "Wakad",
          "Hinjawadi",
          "Viman Nagar",
          "Sinhgad Road",
          "Kharadi",
          "Baner",
          "Chinchwad",
          "Wagholi",
          "Pimpri",
          "Katraj",
          "Pimple Saudagar",
          "Kondhwa",
          "Karve Nagar",
          "Wadgaon Sheri",
          "Bhosari",
          "Aundh",
          "Lohegaon",
          "Bavdhan"
         ],
         "y": [
          573,
          557,
          522,
          479,
          457,
          457,
          453,
          384,
          311,
          305,
          302,
          270,
          265,
          262,
          237,
          230,
          230,
          217,
          181,
          176
         ]
        }
       ],
       "layout": {
        "template": {
         "data": {
          "bar": [
           {
            "error_x": {
             "color": "#2a3f5f"
            },
            "error_y": {
             "color": "#2a3f5f"
            },
            "marker": {
             "line": {
              "color": "#E5ECF6",
              "width": 0.5
             },
             "pattern": {
              "fillmode": "overlay",
              "size": 10,
              "solidity": 0.2
             }
            },
            "type": "bar"
           }
          ],
          "barpolar": [
           {
            "marker": {
             "line": {
              "color": "#E5ECF6",
              "width": 0.5
             },
             "pattern": {
              "fillmode": "overlay",
              "size": 10,
              "solidity": 0.2
             }
            },
            "type": "barpolar"
           }
          ],
          "carpet": [
           {
            "aaxis": {
             "endlinecolor": "#2a3f5f",
             "gridcolor": "white",
             "linecolor": "white",
             "minorgridcolor": "white",
             "startlinecolor": "#2a3f5f"
            },
            "baxis": {
             "endlinecolor": "#2a3f5f",
             "gridcolor": "white",
             "linecolor": "white",
             "minorgridcolor": "white",
             "startlinecolor": "#2a3f5f"
            },
            "type": "carpet"
           }
          ],
          "choropleth": [
           {
            "colorbar": {
             "outlinewidth": 0,
             "ticks": ""
            },
            "type": "choropleth"
           }
          ],
          "contour": [
           {
            "colorbar": {
             "outlinewidth": 0,
             "ticks": ""
            },
            "colorscale": [
             [
              0,
              "#0d0887"
             ],
             [
              0.1111111111111111,
              "#46039f"
             ],
             [
              0.2222222222222222,
              "#7201a8"
             ],
             [
              0.3333333333333333,
              "#9c179e"
             ],
             [
              0.4444444444444444,
              "#bd3786"
             ],
             [
              0.5555555555555556,
              "#d8576b"
             ],
             [
              0.6666666666666666,
              "#ed7953"
             ],
             [
              0.7777777777777778,
              "#fb9f3a"
             ],
             [
              0.8888888888888888,
              "#fdca26"
             ],
             [
              1,
              "#f0f921"
             ]
            ],
            "type": "contour"
           }
          ],
          "contourcarpet": [
           {
            "colorbar": {
             "outlinewidth": 0,
             "ticks": ""
            },
            "type": "contourcarpet"
           }
          ],
          "heatmap": [
           {
            "colorbar": {
             "outlinewidth": 0,
             "ticks": ""
            },
            "colorscale": [
             [
              0,
              "#0d0887"
             ],
             [
              0.1111111111111111,
              "#46039f"
             ],
             [
              0.2222222222222222,
              "#7201a8"
             ],
             [
              0.3333333333333333,
              "#9c179e"
             ],
             [
              0.4444444444444444,
              "#bd3786"
             ],
             [
              0.5555555555555556,
              "#d8576b"
             ],
             [
              0.6666666666666666,
              "#ed7953"
             ],
             [
              0.7777777777777778,
              "#fb9f3a"
             ],
             [
              0.8888888888888888,
              "#fdca26"
             ],
             [
              1,
              "#f0f921"
             ]
            ],
            "type": "heatmap"
           }
          ],
          "heatmapgl": [
           {
            "colorbar": {
             "outlinewidth": 0,
             "ticks": ""
            },
            "colorscale": [
             [
              0,
              "#0d0887"
             ],
             [
              0.1111111111111111,
              "#46039f"
             ],
             [
              0.2222222222222222,
              "#7201a8"
             ],
             [
              0.3333333333333333,
              "#9c179e"
             ],
             [
              0.4444444444444444,
              "#bd3786"
             ],
             [
              0.5555555555555556,
              "#d8576b"
             ],
             [
              0.6666666666666666,
              "#ed7953"
             ],
             [
              0.7777777777777778,
              "#fb9f3a"
             ],
             [
              0.8888888888888888,
              "#fdca26"
             ],
             [
              1,
              "#f0f921"
             ]
            ],
            "type": "heatmapgl"
           }
          ],
          "histogram": [
           {
            "marker": {
             "pattern": {
              "fillmode": "overlay",
              "size": 10,
              "solidity": 0.2
             }
            },
            "type": "histogram"
           }
          ],
          "histogram2d": [
           {
            "colorbar": {
             "outlinewidth": 0,
             "ticks": ""
            },
            "colorscale": [
             [
              0,
              "#0d0887"
             ],
             [
              0.1111111111111111,
              "#46039f"
             ],
             [
              0.2222222222222222,
              "#7201a8"
             ],
             [
              0.3333333333333333,
              "#9c179e"
             ],
             [
              0.4444444444444444,
              "#bd3786"
             ],
             [
              0.5555555555555556,
              "#d8576b"
             ],
             [
              0.6666666666666666,
              "#ed7953"
             ],
             [
              0.7777777777777778,
              "#fb9f3a"
             ],
             [
              0.8888888888888888,
              "#fdca26"
             ],
             [
              1,
              "#f0f921"
             ]
            ],
            "type": "histogram2d"
           }
          ],
          "histogram2dcontour": [
           {
            "colorbar": {
             "outlinewidth": 0,
             "ticks": ""
            },
            "colorscale": [
             [
              0,
              "#0d0887"
             ],
             [
              0.1111111111111111,
              "#46039f"
             ],
             [
              0.2222222222222222,
              "#7201a8"
             ],
             [
              0.3333333333333333,
              "#9c179e"
             ],
             [
              0.4444444444444444,
              "#bd3786"
             ],
             [
              0.5555555555555556,
              "#d8576b"
             ],
             [
              0.6666666666666666,
              "#ed7953"
             ],
             [
              0.7777777777777778,
              "#fb9f3a"
             ],
             [
              0.8888888888888888,
              "#fdca26"
             ],
             [
              1,
              "#f0f921"
             ]
            ],
            "type": "histogram2dcontour"
           }
          ],
          "mesh3d": [
           {
            "colorbar": {
             "outlinewidth": 0,
             "ticks": ""
            },
            "type": "mesh3d"
           }
          ],
          "parcoords": [
           {
            "line": {
             "colorbar": {
              "outlinewidth": 0,
              "ticks": ""
             }
            },
            "type": "parcoords"
           }
          ],
          "pie": [
           {
            "automargin": true,
            "type": "pie"
           }
          ],
          "scatter": [
           {
            "marker": {
             "colorbar": {
              "outlinewidth": 0,
              "ticks": ""
             }
            },
            "type": "scatter"
           }
          ],
          "scatter3d": [
           {
            "line": {
             "colorbar": {
              "outlinewidth": 0,
              "ticks": ""
             }
            },
            "marker": {
             "colorbar": {
              "outlinewidth": 0,
              "ticks": ""
             }
            },
            "type": "scatter3d"
           }
          ],
          "scattercarpet": [
           {
            "marker": {
             "colorbar": {
              "outlinewidth": 0,
              "ticks": ""
             }
            },
            "type": "scattercarpet"
           }
          ],
          "scattergeo": [
           {
            "marker": {
             "colorbar": {
              "outlinewidth": 0,
              "ticks": ""
             }
            },
            "type": "scattergeo"
           }
          ],
          "scattergl": [
           {
            "marker": {
             "colorbar": {
              "outlinewidth": 0,
              "ticks": ""
             }
            },
            "type": "scattergl"
           }
          ],
          "scattermapbox": [
           {
            "marker": {
             "colorbar": {
              "outlinewidth": 0,
              "ticks": ""
             }
            },
            "type": "scattermapbox"
           }
          ],
          "scatterpolar": [
           {
            "marker": {
             "colorbar": {
              "outlinewidth": 0,
              "ticks": ""
             }
            },
            "type": "scatterpolar"
           }
          ],
          "scatterpolargl": [
           {
            "marker": {
             "colorbar": {
              "outlinewidth": 0,
              "ticks": ""
             }
            },
            "type": "scatterpolargl"
           }
          ],
          "scatterternary": [
           {
            "marker": {
             "colorbar": {
              "outlinewidth": 0,
              "ticks": ""
             }
            },
            "type": "scatterternary"
           }
          ],
          "surface": [
           {
            "colorbar": {
             "outlinewidth": 0,
             "ticks": ""
            },
            "colorscale": [
             [
              0,
              "#0d0887"
             ],
             [
              0.1111111111111111,
              "#46039f"
             ],
             [
              0.2222222222222222,
              "#7201a8"
             ],
             [
              0.3333333333333333,
              "#9c179e"
             ],
             [
              0.4444444444444444,
              "#bd3786"
             ],
             [
              0.5555555555555556,
              "#d8576b"
             ],
             [
              0.6666666666666666,
              "#ed7953"
             ],
             [
              0.7777777777777778,
              "#fb9f3a"
             ],
             [
              0.8888888888888888,
              "#fdca26"
             ],
             [
              1,
              "#f0f921"
             ]
            ],
            "type": "surface"
           }
          ],
          "table": [
           {
            "cells": {
             "fill": {
              "color": "#EBF0F8"
             },
             "line": {
              "color": "white"
             }
            },
            "header": {
             "fill": {
              "color": "#C8D4E3"
             },
             "line": {
              "color": "white"
             }
            },
            "type": "table"
           }
          ]
         },
         "layout": {
          "annotationdefaults": {
           "arrowcolor": "#2a3f5f",
           "arrowhead": 0,
           "arrowwidth": 1
          },
          "autotypenumbers": "strict",
          "coloraxis": {
           "colorbar": {
            "outlinewidth": 0,
            "ticks": ""
           }
          },
          "colorscale": {
           "diverging": [
            [
             0,
             "#8e0152"
            ],
            [
             0.1,
             "#c51b7d"
            ],
            [
             0.2,
             "#de77ae"
            ],
            [
             0.3,
             "#f1b6da"
            ],
            [
             0.4,
             "#fde0ef"
            ],
            [
             0.5,
             "#f7f7f7"
            ],
            [
             0.6,
             "#e6f5d0"
            ],
            [
             0.7,
             "#b8e186"
            ],
            [
             0.8,
             "#7fbc41"
            ],
            [
             0.9,
             "#4d9221"
            ],
            [
             1,
             "#276419"
            ]
           ],
           "sequential": [
            [
             0,
             "#0d0887"
            ],
            [
             0.1111111111111111,
             "#46039f"
            ],
            [
             0.2222222222222222,
             "#7201a8"
            ],
            [
             0.3333333333333333,
             "#9c179e"
            ],
            [
             0.4444444444444444,
             "#bd3786"
            ],
            [
             0.5555555555555556,
             "#d8576b"
            ],
            [
             0.6666666666666666,
             "#ed7953"
            ],
            [
             0.7777777777777778,
             "#fb9f3a"
            ],
            [
             0.8888888888888888,
             "#fdca26"
            ],
            [
             1,
             "#f0f921"
            ]
           ],
           "sequentialminus": [
            [
             0,
             "#0d0887"
            ],
            [
             0.1111111111111111,
             "#46039f"
            ],
            [
             0.2222222222222222,
             "#7201a8"
            ],
            [
             0.3333333333333333,
             "#9c179e"
            ],
            [
             0.4444444444444444,
             "#bd3786"
            ],
            [
             0.5555555555555556,
             "#d8576b"
            ],
            [
             0.6666666666666666,
             "#ed7953"
            ],
            [
             0.7777777777777778,
             "#fb9f3a"
            ],
            [
             0.8888888888888888,
             "#fdca26"
            ],
            [
             1,
             "#f0f921"
            ]
           ]
          },
          "colorway": [
           "#636efa",
           "#EF553B",
           "#00cc96",
           "#ab63fa",
           "#FFA15A",
           "#19d3f3",
           "#FF6692",
           "#B6E880",
           "#FF97FF",
           "#FECB52"
          ],
          "font": {
           "color": "#2a3f5f"
          },
          "geo": {
           "bgcolor": "white",
           "lakecolor": "white",
           "landcolor": "#E5ECF6",
           "showlakes": true,
           "showland": true,
           "subunitcolor": "white"
          },
          "hoverlabel": {
           "align": "left"
          },
          "hovermode": "closest",
          "mapbox": {
           "style": "light"
          },
          "paper_bgcolor": "white",
          "plot_bgcolor": "#E5ECF6",
          "polar": {
           "angularaxis": {
            "gridcolor": "white",
            "linecolor": "white",
            "ticks": ""
           },
           "bgcolor": "#E5ECF6",
           "radialaxis": {
            "gridcolor": "white",
            "linecolor": "white",
            "ticks": ""
           }
          },
          "scene": {
           "xaxis": {
            "backgroundcolor": "#E5ECF6",
            "gridcolor": "white",
            "gridwidth": 2,
            "linecolor": "white",
            "showbackground": true,
            "ticks": "",
            "zerolinecolor": "white"
           },
           "yaxis": {
            "backgroundcolor": "#E5ECF6",
            "gridcolor": "white",
            "gridwidth": 2,
            "linecolor": "white",
            "showbackground": true,
            "ticks": "",
            "zerolinecolor": "white"
           },
           "zaxis": {
            "backgroundcolor": "#E5ECF6",
            "gridcolor": "white",
            "gridwidth": 2,
            "linecolor": "white",
            "showbackground": true,
            "ticks": "",
            "zerolinecolor": "white"
           }
          },
          "shapedefaults": {
           "line": {
            "color": "#2a3f5f"
           }
          },
          "ternary": {
           "aaxis": {
            "gridcolor": "white",
            "linecolor": "white",
            "ticks": ""
           },
           "baxis": {
            "gridcolor": "white",
            "linecolor": "white",
            "ticks": ""
           },
           "bgcolor": "#E5ECF6",
           "caxis": {
            "gridcolor": "white",
            "linecolor": "white",
            "ticks": ""
           }
          },
          "title": {
           "x": 0.05
          },
          "xaxis": {
           "automargin": true,
           "gridcolor": "white",
           "linecolor": "white",
           "ticks": "",
           "title": {
            "standoff": 15
           },
           "zerolinecolor": "white",
           "zerolinewidth": 2
          },
          "yaxis": {
           "automargin": true,
           "gridcolor": "white",
           "linecolor": "white",
           "ticks": "",
           "title": {
            "standoff": 15
           },
           "zerolinecolor": "white",
           "zerolinewidth": 2
          }
         }
        }
       }
      },
      "text/html": [
       "<div>                            <div id=\"e175c296-d7eb-4168-bdab-ee6f73b42eb7\" class=\"plotly-graph-div\" style=\"height:525px; width:100%;\"></div>            <script type=\"text/javascript\">                require([\"plotly\"], function(Plotly) {                    window.PLOTLYENV=window.PLOTLYENV || {};                                    if (document.getElementById(\"e175c296-d7eb-4168-bdab-ee6f73b42eb7\")) {                    Plotly.newPlot(                        \"e175c296-d7eb-4168-bdab-ee6f73b42eb7\",                        [{\"name\":\"Priority\",\"type\":\"bar\",\"x\":[\"Hadapsar\",\"Kothrud\",\"Wakad\",\"Hinjawadi\",\"Viman Nagar\",\"Sinhgad Road\",\"Kharadi\",\"Baner\",\"Chinchwad\",\"Wagholi\",\"Pimpri\",\"Katraj\",\"Pimple Saudagar\",\"Kondhwa\",\"Karve Nagar\",\"Wadgaon Sheri\",\"Bhosari\",\"Aundh\",\"Lohegaon\",\"Bavdhan\"],\"y\":[573,557,522,479,457,457,453,384,311,305,302,270,265,262,237,230,230,217,181,176]}],                        {\"template\":{\"data\":{\"bar\":[{\"error_x\":{\"color\":\"#2a3f5f\"},\"error_y\":{\"color\":\"#2a3f5f\"},\"marker\":{\"line\":{\"color\":\"#E5ECF6\",\"width\":0.5},\"pattern\":{\"fillmode\":\"overlay\",\"size\":10,\"solidity\":0.2}},\"type\":\"bar\"}],\"barpolar\":[{\"marker\":{\"line\":{\"color\":\"#E5ECF6\",\"width\":0.5},\"pattern\":{\"fillmode\":\"overlay\",\"size\":10,\"solidity\":0.2}},\"type\":\"barpolar\"}],\"carpet\":[{\"aaxis\":{\"endlinecolor\":\"#2a3f5f\",\"gridcolor\":\"white\",\"linecolor\":\"white\",\"minorgridcolor\":\"white\",\"startlinecolor\":\"#2a3f5f\"},\"baxis\":{\"endlinecolor\":\"#2a3f5f\",\"gridcolor\":\"white\",\"linecolor\":\"white\",\"minorgridcolor\":\"white\",\"startlinecolor\":\"#2a3f5f\"},\"type\":\"carpet\"}],\"choropleth\":[{\"colorbar\":{\"outlinewidth\":0,\"ticks\":\"\"},\"type\":\"choropleth\"}],\"contour\":[{\"colorbar\":{\"outlinewidth\":0,\"ticks\":\"\"},\"colorscale\":[[0.0,\"#0d0887\"],[0.1111111111111111,\"#46039f\"],[0.2222222222222222,\"#7201a8\"],[0.3333333333333333,\"#9c179e\"],[0.4444444444444444,\"#bd3786\"],[0.5555555555555556,\"#d8576b\"],[0.6666666666666666,\"#ed7953\"],[0.7777777777777778,\"#fb9f3a\"],[0.8888888888888888,\"#fdca26\"],[1.0,\"#f0f921\"]],\"type\":\"contour\"}],\"contourcarpet\":[{\"colorbar\":{\"outlinewidth\":0,\"ticks\":\"\"},\"type\":\"contourcarpet\"}],\"heatmap\":[{\"colorbar\":{\"outlinewidth\":0,\"ticks\":\"\"},\"colorscale\":[[0.0,\"#0d0887\"],[0.1111111111111111,\"#46039f\"],[0.2222222222222222,\"#7201a8\"],[0.3333333333333333,\"#9c179e\"],[0.4444444444444444,\"#bd3786\"],[0.5555555555555556,\"#d8576b\"],[0.6666666666666666,\"#ed7953\"],[0.7777777777777778,\"#fb9f3a\"],[0.8888888888888888,\"#fdca26\"],[1.0,\"#f0f921\"]],\"type\":\"heatmap\"}],\"heatmapgl\":[{\"colorbar\":{\"outlinewidth\":0,\"ticks\":\"\"},\"colorscale\":[[0.0,\"#0d0887\"],[0.1111111111111111,\"#46039f\"],[0.2222222222222222,\"#7201a8\"],[0.3333333333333333,\"#9c179e\"],[0.4444444444444444,\"#bd3786\"],[0.5555555555555556,\"#d8576b\"],[0.6666666666666666,\"#ed7953\"],[0.7777777777777778,\"#fb9f3a\"],[0.8888888888888888,\"#fdca26\"],[1.0,\"#f0f921\"]],\"type\":\"heatmapgl\"}],\"histogram\":[{\"marker\":{\"pattern\":{\"fillmode\":\"overlay\",\"size\":10,\"solidity\":0.2}},\"type\":\"histogram\"}],\"histogram2d\":[{\"colorbar\":{\"outlinewidth\":0,\"ticks\":\"\"},\"colorscale\":[[0.0,\"#0d0887\"],[0.1111111111111111,\"#46039f\"],[0.2222222222222222,\"#7201a8\"],[0.3333333333333333,\"#9c179e\"],[0.4444444444444444,\"#bd3786\"],[0.5555555555555556,\"#d8576b\"],[0.6666666666666666,\"#ed7953\"],[0.7777777777777778,\"#fb9f3a\"],[0.8888888888888888,\"#fdca26\"],[1.0,\"#f0f921\"]],\"type\":\"histogram2d\"}],\"histogram2dcontour\":[{\"colorbar\":{\"outlinewidth\":0,\"ticks\":\"\"},\"colorscale\":[[0.0,\"#0d0887\"],[0.1111111111111111,\"#46039f\"],[0.2222222222222222,\"#7201a8\"],[0.3333333333333333,\"#9c179e\"],[0.4444444444444444,\"#bd3786\"],[0.5555555555555556,\"#d8576b\"],[0.6666666666666666,\"#ed7953\"],[0.7777777777777778,\"#fb9f3a\"],[0.8888888888888888,\"#fdca26\"],[1.0,\"#f0f921\"]],\"type\":\"histogram2dcontour\"}],\"mesh3d\":[{\"colorbar\":{\"outlinewidth\":0,\"ticks\":\"\"},\"type\":\"mesh3d\"}],\"parcoords\":[{\"line\":{\"colorbar\":{\"outlinewidth\":0,\"ticks\":\"\"}},\"type\":\"parcoords\"}],\"pie\":[{\"automargin\":true,\"type\":\"pie\"}],\"scatter\":[{\"marker\":{\"colorbar\":{\"outlinewidth\":0,\"ticks\":\"\"}},\"type\":\"scatter\"}],\"scatter3d\":[{\"line\":{\"colorbar\":{\"outlinewidth\":0,\"ticks\":\"\"}},\"marker\":{\"colorbar\":{\"outlinewidth\":0,\"ticks\":\"\"}},\"type\":\"scatter3d\"}],\"scattercarpet\":[{\"marker\":{\"colorbar\":{\"outlinewidth\":0,\"ticks\":\"\"}},\"type\":\"scattercarpet\"}],\"scattergeo\":[{\"marker\":{\"colorbar\":{\"outlinewidth\":0,\"ticks\":\"\"}},\"type\":\"scattergeo\"}],\"scattergl\":[{\"marker\":{\"colorbar\":{\"outlinewidth\":0,\"ticks\":\"\"}},\"type\":\"scattergl\"}],\"scattermapbox\":[{\"marker\":{\"colorbar\":{\"outlinewidth\":0,\"ticks\":\"\"}},\"type\":\"scattermapbox\"}],\"scatterpolar\":[{\"marker\":{\"colorbar\":{\"outlinewidth\":0,\"ticks\":\"\"}},\"type\":\"scatterpolar\"}],\"scatterpolargl\":[{\"marker\":{\"colorbar\":{\"outlinewidth\":0,\"ticks\":\"\"}},\"type\":\"scatterpolargl\"}],\"scatterternary\":[{\"marker\":{\"colorbar\":{\"outlinewidth\":0,\"ticks\":\"\"}},\"type\":\"scatterternary\"}],\"surface\":[{\"colorbar\":{\"outlinewidth\":0,\"ticks\":\"\"},\"colorscale\":[[0.0,\"#0d0887\"],[0.1111111111111111,\"#46039f\"],[0.2222222222222222,\"#7201a8\"],[0.3333333333333333,\"#9c179e\"],[0.4444444444444444,\"#bd3786\"],[0.5555555555555556,\"#d8576b\"],[0.6666666666666666,\"#ed7953\"],[0.7777777777777778,\"#fb9f3a\"],[0.8888888888888888,\"#fdca26\"],[1.0,\"#f0f921\"]],\"type\":\"surface\"}],\"table\":[{\"cells\":{\"fill\":{\"color\":\"#EBF0F8\"},\"line\":{\"color\":\"white\"}},\"header\":{\"fill\":{\"color\":\"#C8D4E3\"},\"line\":{\"color\":\"white\"}},\"type\":\"table\"}]},\"layout\":{\"annotationdefaults\":{\"arrowcolor\":\"#2a3f5f\",\"arrowhead\":0,\"arrowwidth\":1},\"autotypenumbers\":\"strict\",\"coloraxis\":{\"colorbar\":{\"outlinewidth\":0,\"ticks\":\"\"}},\"colorscale\":{\"diverging\":[[0,\"#8e0152\"],[0.1,\"#c51b7d\"],[0.2,\"#de77ae\"],[0.3,\"#f1b6da\"],[0.4,\"#fde0ef\"],[0.5,\"#f7f7f7\"],[0.6,\"#e6f5d0\"],[0.7,\"#b8e186\"],[0.8,\"#7fbc41\"],[0.9,\"#4d9221\"],[1,\"#276419\"]],\"sequential\":[[0.0,\"#0d0887\"],[0.1111111111111111,\"#46039f\"],[0.2222222222222222,\"#7201a8\"],[0.3333333333333333,\"#9c179e\"],[0.4444444444444444,\"#bd3786\"],[0.5555555555555556,\"#d8576b\"],[0.6666666666666666,\"#ed7953\"],[0.7777777777777778,\"#fb9f3a\"],[0.8888888888888888,\"#fdca26\"],[1.0,\"#f0f921\"]],\"sequentialminus\":[[0.0,\"#0d0887\"],[0.1111111111111111,\"#46039f\"],[0.2222222222222222,\"#7201a8\"],[0.3333333333333333,\"#9c179e\"],[0.4444444444444444,\"#bd3786\"],[0.5555555555555556,\"#d8576b\"],[0.6666666666666666,\"#ed7953\"],[0.7777777777777778,\"#fb9f3a\"],[0.8888888888888888,\"#fdca26\"],[1.0,\"#f0f921\"]]},\"colorway\":[\"#636efa\",\"#EF553B\",\"#00cc96\",\"#ab63fa\",\"#FFA15A\",\"#19d3f3\",\"#FF6692\",\"#B6E880\",\"#FF97FF\",\"#FECB52\"],\"font\":{\"color\":\"#2a3f5f\"},\"geo\":{\"bgcolor\":\"white\",\"lakecolor\":\"white\",\"landcolor\":\"#E5ECF6\",\"showlakes\":true,\"showland\":true,\"subunitcolor\":\"white\"},\"hoverlabel\":{\"align\":\"left\"},\"hovermode\":\"closest\",\"mapbox\":{\"style\":\"light\"},\"paper_bgcolor\":\"white\",\"plot_bgcolor\":\"#E5ECF6\",\"polar\":{\"angularaxis\":{\"gridcolor\":\"white\",\"linecolor\":\"white\",\"ticks\":\"\"},\"bgcolor\":\"#E5ECF6\",\"radialaxis\":{\"gridcolor\":\"white\",\"linecolor\":\"white\",\"ticks\":\"\"}},\"scene\":{\"xaxis\":{\"backgroundcolor\":\"#E5ECF6\",\"gridcolor\":\"white\",\"gridwidth\":2,\"linecolor\":\"white\",\"showbackground\":true,\"ticks\":\"\",\"zerolinecolor\":\"white\"},\"yaxis\":{\"backgroundcolor\":\"#E5ECF6\",\"gridcolor\":\"white\",\"gridwidth\":2,\"linecolor\":\"white\",\"showbackground\":true,\"ticks\":\"\",\"zerolinecolor\":\"white\"},\"zaxis\":{\"backgroundcolor\":\"#E5ECF6\",\"gridcolor\":\"white\",\"gridwidth\":2,\"linecolor\":\"white\",\"showbackground\":true,\"ticks\":\"\",\"zerolinecolor\":\"white\"}},\"shapedefaults\":{\"line\":{\"color\":\"#2a3f5f\"}},\"ternary\":{\"aaxis\":{\"gridcolor\":\"white\",\"linecolor\":\"white\",\"ticks\":\"\"},\"baxis\":{\"gridcolor\":\"white\",\"linecolor\":\"white\",\"ticks\":\"\"},\"bgcolor\":\"#E5ECF6\",\"caxis\":{\"gridcolor\":\"white\",\"linecolor\":\"white\",\"ticks\":\"\"}},\"title\":{\"x\":0.05},\"xaxis\":{\"automargin\":true,\"gridcolor\":\"white\",\"linecolor\":\"white\",\"ticks\":\"\",\"title\":{\"standoff\":15},\"zerolinecolor\":\"white\",\"zerolinewidth\":2},\"yaxis\":{\"automargin\":true,\"gridcolor\":\"white\",\"linecolor\":\"white\",\"ticks\":\"\",\"title\":{\"standoff\":15},\"zerolinecolor\":\"white\",\"zerolinewidth\":2}}}},                        {\"responsive\": true}                    ).then(function(){\n",
       "                            \n",
       "var gd = document.getElementById('e175c296-d7eb-4168-bdab-ee6f73b42eb7');\n",
       "var x = new MutationObserver(function (mutations, observer) {{\n",
       "        var display = window.getComputedStyle(gd).display;\n",
       "        if (!display || display === 'none') {{\n",
       "            console.log([gd, 'removed!']);\n",
       "            Plotly.purge(gd);\n",
       "            observer.disconnect();\n",
       "        }}\n",
       "}});\n",
       "\n",
       "// Listen for the removal of the full notebook cells\n",
       "var notebookContainer = gd.closest('#notebook-container');\n",
       "if (notebookContainer) {{\n",
       "    x.observe(notebookContainer, {childList: true});\n",
       "}}\n",
       "\n",
       "// Listen for the clearing of the current output cell\n",
       "var outputEl = gd.closest('.output');\n",
       "if (outputEl) {{\n",
       "    x.observe(outputEl, {childList: true});\n",
       "}}\n",
       "\n",
       "                        })                };                });            </script>        </div>"
      ]
     },
     "metadata": {},
     "output_type": "display_data"
    }
   ],
   "source": [
    "Restaurant_locations=z['Locality'].value_counts()[:20]\n",
    "trace1 = go.Bar( \n",
    "        x = Restaurant_locations.index,\n",
    "        y = Restaurant_locations,\n",
    "        name= 'Priority')\n",
    "iplot([trace1])"
   ]
  },
  {
   "cell_type": "markdown",
   "id": "e9c933e4",
   "metadata": {},
   "source": [
    "## Top restaurant chains in Pune"
   ]
  },
  {
   "cell_type": "code",
   "execution_count": 92,
   "id": "0861ca33",
   "metadata": {},
   "outputs": [
    {
     "data": {
      "text/plain": [
       "Text(0.5, 0, 'Number of outlets')"
      ]
     },
     "execution_count": 92,
     "metadata": {},
     "output_type": "execute_result"
    },
    {
     "data": {
      "image/png": "[encoded data removed]",
      "text/plain": [
       "<Figure size 1080x504 with 1 Axes>"
      ]
     },
     "metadata": {
      "needs_background": "light"
     },
     "output_type": "display_data"
    }
   ],
   "source": [
    "plt.figure(figsize=(15,7))\n",
    "chains=zomato_real['Restaurant_Name'].value_counts()[:20]\n",
    "sns.barplot(x=chains,y=chains.index,palette='Set1')\n",
    "plt.title(\"Most famous restaurant chains in Pune\",size=20,pad=20)\n",
    "plt.xlabel(\"Number of outlets\",size=15)"
   ]
  },
  {
   "cell_type": "markdown",
   "id": "9808af99",
   "metadata": {},
   "source": [
    "* Most number of outlets are of Hotel Malhar, within Pune"
   ]
  },
  {
   "cell_type": "code",
   "execution_count": null,
   "id": "26e9fe5b",
   "metadata": {},
   "outputs": [],
   "source": []
  },
  {
   "cell_type": "code",
   "execution_count": null,
   "id": "6560ec5e",
   "metadata": {},
   "outputs": [],
   "source": []
  }
 ],
 "metadata": {
  "kernelspec": {
   "display_name": "Python 3",
   "language": "python",
   "name": "python3"
  },
  "language_info": {
   "codemirror_mode": {
    "name": "ipython",
    "version": 3
   },
   "file_extension": ".py",
   "mimetype": "text/x-python",
   "name": "python",
   "nbconvert_exporter": "python",
   "pygments_lexer": "ipython3",
   "version": "3.8.8"
  }
 },
 "nbformat": 4,
 "nbformat_minor": 5
}
